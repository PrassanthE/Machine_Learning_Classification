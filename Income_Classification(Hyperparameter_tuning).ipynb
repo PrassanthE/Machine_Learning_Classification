{
  "nbformat": 4,
  "nbformat_minor": 0,
  "metadata": {
    "kernelspec": {
      "display_name": "Python 3",
      "language": "python",
      "name": "python3"
    },
    "language_info": {
      "codemirror_mode": {
        "name": "ipython",
        "version": 3
      },
      "file_extension": ".py",
      "mimetype": "text/x-python",
      "name": "python",
      "nbconvert_exporter": "python",
      "pygments_lexer": "ipython3",
      "version": "3.7.3"
    },
    "colab": {
      "name": "Income_Classification(Hyperparameter_tuning).ipynb",
      "provenance": [],
      "include_colab_link": true
    }
  },
  "cells": [
    {
      "cell_type": "markdown",
      "metadata": {
        "id": "view-in-github",
        "colab_type": "text"
      },
      "source": [
        "<a href=\"https://colab.research.google.com/github/PrassanthE/Machine_Learning_Classification/blob/master/Income_Classification(Hyperparameter_tuning).ipynb\" target=\"_parent\"><img src=\"https://colab.research.google.com/assets/colab-badge.svg\" alt=\"Open In Colab\"/></a>"
      ]
    },
    {
      "cell_type": "code",
      "metadata": {
        "id": "olaCZfyGZRj1",
        "colab_type": "code",
        "colab": {}
      },
      "source": [
        "import numpy as np # linear algebra\n",
        "import pandas as pd # data processing\n",
        "pd.set_option('display.max_rows',None)\n",
        "pd.set_option('display.max_columns',None)\n",
        "import matplotlib.pyplot as plt\n",
        "import seaborn as sns"
      ],
      "execution_count": 0,
      "outputs": []
    },
    {
      "cell_type": "code",
      "metadata": {
        "id": "yKXJmwcaZRkG",
        "colab_type": "code",
        "colab": {}
      },
      "source": [
        "#Loading the dataframe\n",
        "df = pd.read_csv('/content/adult.csv')"
      ],
      "execution_count": 0,
      "outputs": []
    },
    {
      "cell_type": "markdown",
      "metadata": {
        "id": "KlDCaHd6ZRkQ",
        "colab_type": "text"
      },
      "source": [
        "# Dataset Description\n",
        "\n",
        "### Categorical Attributes :\n",
        "\n",
        "**1. workclass**: (categorical) Private, Self-emp-not-inc(Unincorporated self employment), Self-emp-inc(Incorporated self employment:), Federal-gov, Local-gov, State-gov, Without-pay, Never-worked.\n",
        "    - Individual work category\n",
        "**2. education**: (categorical) Bachelors, Some-college, 11th, HS-grad, Prof-school, Assoc-acdm, Assoc-voc, 9th, 7th-8th, 12th, Masters, 1st-4th, 10th, Doctorate, 5th-6th, Preschool.\n",
        "    - Individual's highest education degree\n",
        "**3. marital-status**: (categorical) Married-civ-spouse, Divorced, Never-married, Separated, Widowed, Married-spouse-absent, Married-AF-spouse.\n",
        "    - Individual marital status\n",
        "**4. occupation**: (categorical) Tech-support, Craft-repair, Other-service, Sales, Exec-managerial, Prof-specialty, Handlers-cleaners, Machine-op-inspct, Adm-clerical, Farming-fishing, Transport-moving, Priv-house-serv, Protective-serv, Armed-Forces.\n",
        "     - Individual's occupation\n",
        "**5. relationship**: (categorical) Wife, Own-child, Husband, Not-in-family, Other-relative, Unmarried.\n",
        "    - Individual's relation in a family\n",
        "**6. race**: (categorical) White, Asian-Pac-Islander, Amer-Indian-Eskimo, Other, Black.\n",
        "    - Race of Individual\n",
        "**7. sex**: (categorical) Female, Male.\n",
        "\n",
        "**8. native-country**: (categorical) United-States, Cambodia, England, Puerto-Rico, Canada, Germany, Outlying-US(Guam-USVI-etc), India, Japan, Greece, South, China, Cuba, Iran, Honduras, Philippines, Italy, Poland, Jamaica, Vietnam, Mexico, Portugal, Ireland, France, Dominican-Republic, Laos, Ecuador, Taiwan, Haiti, Columbia, Hungary, Guatemala, Nicaragua, Scotland, Thailand, Yugoslavia, El-Salvador, Trinadad&Tobago, Peru, Hong, Holand-Netherlands.\n",
        "    - Individual's native country\n",
        "\n",
        "### Continuous Attributes :\n",
        "\n",
        "**1. age**: continuous.\n",
        "    - Age of an individual\n",
        "**2. education-num**: number of education year, continuous.\n",
        "    - Individual's year of receiving education\n",
        "**3. fnlwgt**: final weight, continuous.\n",
        "    - The weights on the CPS files are controlled to independent estimates of the civilian noninstitutional population of the US. These are prepared monthly for us by Population Division here at the Census Bureau.\n",
        "    \n",
        "    - The term estimate refers to population totals derived from CPS by creating \"weighted tallies\" of any specified socio-economic characteristics of the population. People with similar demographic characteristics should have similar weights. \n",
        "    \n",
        "**4. capital-gain**: continuous.\n",
        "\n",
        "**5. capital-loss**: continuous.\n",
        "\n",
        "**6. hours-per-week**: continuous.\n",
        "    - Individual's working hour per week"
      ]
    },
    {
      "cell_type": "code",
      "metadata": {
        "id": "mBFtjYwZZRkT",
        "colab_type": "code",
        "colab": {
          "base_uri": "https://localhost:8080/",
          "height": 283
        },
        "outputId": "8a5f38c1-b089-4daa-d7f5-ea4b0f259982"
      },
      "source": [
        "#Viewing the dataset\n",
        "df.head()"
      ],
      "execution_count": 39,
      "outputs": [
        {
          "output_type": "execute_result",
          "data": {
            "text/html": [
              "<div>\n",
              "<style scoped>\n",
              "    .dataframe tbody tr th:only-of-type {\n",
              "        vertical-align: middle;\n",
              "    }\n",
              "\n",
              "    .dataframe tbody tr th {\n",
              "        vertical-align: top;\n",
              "    }\n",
              "\n",
              "    .dataframe thead th {\n",
              "        text-align: right;\n",
              "    }\n",
              "</style>\n",
              "<table border=\"1\" class=\"dataframe\">\n",
              "  <thead>\n",
              "    <tr style=\"text-align: right;\">\n",
              "      <th></th>\n",
              "      <th>age</th>\n",
              "      <th>workclass</th>\n",
              "      <th>fnlwgt</th>\n",
              "      <th>education</th>\n",
              "      <th>education.num</th>\n",
              "      <th>marital.status</th>\n",
              "      <th>occupation</th>\n",
              "      <th>relationship</th>\n",
              "      <th>race</th>\n",
              "      <th>sex</th>\n",
              "      <th>capital.gain</th>\n",
              "      <th>capital.loss</th>\n",
              "      <th>hours.per.week</th>\n",
              "      <th>native.country</th>\n",
              "      <th>income</th>\n",
              "    </tr>\n",
              "  </thead>\n",
              "  <tbody>\n",
              "    <tr>\n",
              "      <th>0</th>\n",
              "      <td>90</td>\n",
              "      <td>?</td>\n",
              "      <td>77053</td>\n",
              "      <td>HS-grad</td>\n",
              "      <td>9</td>\n",
              "      <td>Widowed</td>\n",
              "      <td>?</td>\n",
              "      <td>Not-in-family</td>\n",
              "      <td>White</td>\n",
              "      <td>Female</td>\n",
              "      <td>0</td>\n",
              "      <td>4356</td>\n",
              "      <td>40</td>\n",
              "      <td>United-States</td>\n",
              "      <td>&lt;=50K</td>\n",
              "    </tr>\n",
              "    <tr>\n",
              "      <th>1</th>\n",
              "      <td>82</td>\n",
              "      <td>Private</td>\n",
              "      <td>132870</td>\n",
              "      <td>HS-grad</td>\n",
              "      <td>9</td>\n",
              "      <td>Widowed</td>\n",
              "      <td>Exec-managerial</td>\n",
              "      <td>Not-in-family</td>\n",
              "      <td>White</td>\n",
              "      <td>Female</td>\n",
              "      <td>0</td>\n",
              "      <td>4356</td>\n",
              "      <td>18</td>\n",
              "      <td>United-States</td>\n",
              "      <td>&lt;=50K</td>\n",
              "    </tr>\n",
              "    <tr>\n",
              "      <th>2</th>\n",
              "      <td>66</td>\n",
              "      <td>?</td>\n",
              "      <td>186061</td>\n",
              "      <td>Some-college</td>\n",
              "      <td>10</td>\n",
              "      <td>Widowed</td>\n",
              "      <td>?</td>\n",
              "      <td>Unmarried</td>\n",
              "      <td>Black</td>\n",
              "      <td>Female</td>\n",
              "      <td>0</td>\n",
              "      <td>4356</td>\n",
              "      <td>40</td>\n",
              "      <td>United-States</td>\n",
              "      <td>&lt;=50K</td>\n",
              "    </tr>\n",
              "    <tr>\n",
              "      <th>3</th>\n",
              "      <td>54</td>\n",
              "      <td>Private</td>\n",
              "      <td>140359</td>\n",
              "      <td>7th-8th</td>\n",
              "      <td>4</td>\n",
              "      <td>Divorced</td>\n",
              "      <td>Machine-op-inspct</td>\n",
              "      <td>Unmarried</td>\n",
              "      <td>White</td>\n",
              "      <td>Female</td>\n",
              "      <td>0</td>\n",
              "      <td>3900</td>\n",
              "      <td>40</td>\n",
              "      <td>United-States</td>\n",
              "      <td>&lt;=50K</td>\n",
              "    </tr>\n",
              "    <tr>\n",
              "      <th>4</th>\n",
              "      <td>41</td>\n",
              "      <td>Private</td>\n",
              "      <td>264663</td>\n",
              "      <td>Some-college</td>\n",
              "      <td>10</td>\n",
              "      <td>Separated</td>\n",
              "      <td>Prof-specialty</td>\n",
              "      <td>Own-child</td>\n",
              "      <td>White</td>\n",
              "      <td>Female</td>\n",
              "      <td>0</td>\n",
              "      <td>3900</td>\n",
              "      <td>40</td>\n",
              "      <td>United-States</td>\n",
              "      <td>&lt;=50K</td>\n",
              "    </tr>\n",
              "  </tbody>\n",
              "</table>\n",
              "</div>"
            ],
            "text/plain": [
              "   age workclass  fnlwgt     education  education.num marital.status  \\\n",
              "0   90         ?   77053       HS-grad              9        Widowed   \n",
              "1   82   Private  132870       HS-grad              9        Widowed   \n",
              "2   66         ?  186061  Some-college             10        Widowed   \n",
              "3   54   Private  140359       7th-8th              4       Divorced   \n",
              "4   41   Private  264663  Some-college             10      Separated   \n",
              "\n",
              "          occupation   relationship   race     sex  capital.gain  \\\n",
              "0                  ?  Not-in-family  White  Female             0   \n",
              "1    Exec-managerial  Not-in-family  White  Female             0   \n",
              "2                  ?      Unmarried  Black  Female             0   \n",
              "3  Machine-op-inspct      Unmarried  White  Female             0   \n",
              "4     Prof-specialty      Own-child  White  Female             0   \n",
              "\n",
              "   capital.loss  hours.per.week native.country income  \n",
              "0          4356              40  United-States  <=50K  \n",
              "1          4356              18  United-States  <=50K  \n",
              "2          4356              40  United-States  <=50K  \n",
              "3          3900              40  United-States  <=50K  \n",
              "4          3900              40  United-States  <=50K  "
            ]
          },
          "metadata": {
            "tags": []
          },
          "execution_count": 39
        }
      ]
    },
    {
      "cell_type": "code",
      "metadata": {
        "id": "xghpQOUFZRkf",
        "colab_type": "code",
        "colab": {
          "base_uri": "https://localhost:8080/",
          "height": 351
        },
        "outputId": "42f8de41-bd00-4113-8d3e-82f7ba22af3e"
      },
      "source": [
        "#Information about dataset\n",
        "df.info()"
      ],
      "execution_count": 40,
      "outputs": [
        {
          "output_type": "stream",
          "text": [
            "<class 'pandas.core.frame.DataFrame'>\n",
            "RangeIndex: 32561 entries, 0 to 32560\n",
            "Data columns (total 15 columns):\n",
            "age               32561 non-null int64\n",
            "workclass         32561 non-null object\n",
            "fnlwgt            32561 non-null int64\n",
            "education         32561 non-null object\n",
            "education.num     32561 non-null int64\n",
            "marital.status    32561 non-null object\n",
            "occupation        32561 non-null object\n",
            "relationship      32561 non-null object\n",
            "race              32561 non-null object\n",
            "sex               32561 non-null object\n",
            "capital.gain      32561 non-null int64\n",
            "capital.loss      32561 non-null int64\n",
            "hours.per.week    32561 non-null int64\n",
            "native.country    32561 non-null object\n",
            "income            32561 non-null object\n",
            "dtypes: int64(6), object(9)\n",
            "memory usage: 3.7+ MB\n"
          ],
          "name": "stdout"
        }
      ]
    },
    {
      "cell_type": "code",
      "metadata": {
        "id": "i_VmhVMLZRkp",
        "colab_type": "code",
        "colab": {}
      },
      "source": [
        "#Seperating continuous and categorical columns\n",
        "cont_col = []\n",
        "cat_col  = []\n",
        "\n",
        "for i in df.columns :\n",
        "    if df[i].dtypes == 'O':\n",
        "        cat_col.append(i)\n",
        "    else :\n",
        "        cont_col.append(i)"
      ],
      "execution_count": 0,
      "outputs": []
    },
    {
      "cell_type": "code",
      "metadata": {
        "id": "WZdPNJQTZRkz",
        "colab_type": "code",
        "colab": {
          "base_uri": "https://localhost:8080/",
          "height": 100
        },
        "outputId": "b39e4ee9-302c-4ba9-812b-4c122eac71f8"
      },
      "source": [
        "print('The categorical columns are :\\n',cat_col)\n",
        "print()\n",
        "print('The continuous columns are  :\\n',cont_col)"
      ],
      "execution_count": 42,
      "outputs": [
        {
          "output_type": "stream",
          "text": [
            "The categorical columns are :\n",
            " ['workclass', 'education', 'marital.status', 'occupation', 'relationship', 'race', 'sex', 'native.country', 'income']\n",
            "\n",
            "The continuous columns are  :\n",
            " ['age', 'fnlwgt', 'education.num', 'capital.gain', 'capital.loss', 'hours.per.week']\n"
          ],
          "name": "stdout"
        }
      ]
    },
    {
      "cell_type": "code",
      "metadata": {
        "id": "t8Bz9CnpZRk-",
        "colab_type": "code",
        "colab": {
          "base_uri": "https://localhost:8080/",
          "height": 657
        },
        "outputId": "e3f9bb73-f63a-44fd-ff26-f3801673dccc"
      },
      "source": [
        "plt.figure(figsize=(10,10))\n",
        "sns.heatmap(df.isnull(),cbar=False)\n",
        "plt.xticks(rotation=60, fontsize=10)\n",
        "plt.show()"
      ],
      "execution_count": 43,
      "outputs": [
        {
          "output_type": "display_data",
          "data": {
            "image/png": "[encoded data removed]",
            "text/plain": [
              "<Figure size 720x720 with 1 Axes>"
            ]
          },
          "metadata": {
            "tags": []
          }
        }
      ]
    },
    {
      "cell_type": "code",
      "metadata": {
        "id": "C52lG56uZRlJ",
        "colab_type": "code",
        "colab": {
          "base_uri": "https://localhost:8080/",
          "height": 284
        },
        "outputId": "ce351a84-182b-4366-e088-8a9f4ceb418b"
      },
      "source": [
        "df.isnull().sum()"
      ],
      "execution_count": 44,
      "outputs": [
        {
          "output_type": "execute_result",
          "data": {
            "text/plain": [
              "age               0\n",
              "workclass         0\n",
              "fnlwgt            0\n",
              "education         0\n",
              "education.num     0\n",
              "marital.status    0\n",
              "occupation        0\n",
              "relationship      0\n",
              "race              0\n",
              "sex               0\n",
              "capital.gain      0\n",
              "capital.loss      0\n",
              "hours.per.week    0\n",
              "native.country    0\n",
              "income            0\n",
              "dtype: int64"
            ]
          },
          "metadata": {
            "tags": []
          },
          "execution_count": 44
        }
      ]
    },
    {
      "cell_type": "markdown",
      "metadata": {
        "id": "v3edv-oxZRlc",
        "colab_type": "text"
      },
      "source": [
        "There are no missing NaN values in the dataset"
      ]
    },
    {
      "cell_type": "markdown",
      "metadata": {
        "id": "0mYabcG4ZRlj",
        "colab_type": "text"
      },
      "source": [
        "**FEATURE ENGINEERING**"
      ]
    },
    {
      "cell_type": "code",
      "metadata": {
        "id": "77nMkpFaZRll",
        "colab_type": "code",
        "colab": {
          "base_uri": "https://localhost:8080/",
          "height": 1000
        },
        "outputId": "8f53caea-64a8-4b3f-c340-5c52c0628b29"
      },
      "source": [
        "#Gives Frequency of elements in all categorical columns \n",
        "\n",
        "for i in cat_col :\n",
        "    print('\\t\\t\\t\\t',i)\n",
        "    print(df[i].value_counts())\n",
        "    plt.title('Countplot')\n",
        "    plt.ylabel('counts')\n",
        "    plt.xlabel(i)\n",
        "    sns.barplot(df[i].value_counts().index[:5] , df[i].value_counts().values[:5])\n",
        "    plt.tight_layout()\n",
        "    plt.show()\n",
        "    print('\\n\\n')"
      ],
      "execution_count": 45,
      "outputs": [
        {
          "output_type": "stream",
          "text": [
            "\t\t\t\t workclass\n",
            "Private             22696\n",
            "Self-emp-not-inc     2541\n",
            "Local-gov            2093\n",
            "?                    1836\n",
            "State-gov            1298\n",
            "Self-emp-inc         1116\n",
            "Federal-gov           960\n",
            "Without-pay            14\n",
            "Never-worked            7\n",
            "Name: workclass, dtype: int64\n"
          ],
          "name": "stdout"
        },
        {
          "output_type": "display_data",
          "data": {
            "image/png": "[encoded data removed]",
            "text/plain": [
              "<Figure size 432x288 with 1 Axes>"
            ]
          },
          "metadata": {
            "tags": []
          }
        },
        {
          "output_type": "stream",
          "text": [
            "\n",
            "\n",
            "\n",
            "\t\t\t\t education\n",
            "HS-grad         10501\n",
            "Some-college     7291\n",
            "Bachelors        5355\n",
            "Masters          1723\n",
            "Assoc-voc        1382\n",
            "11th             1175\n",
            "Assoc-acdm       1067\n",
            "10th              933\n",
            "7th-8th           646\n",
            "Prof-school       576\n",
            "9th               514\n",
            "12th              433\n",
            "Doctorate         413\n",
            "5th-6th           333\n",
            "1st-4th           168\n",
            "Preschool          51\n",
            "Name: education, dtype: int64\n"
          ],
          "name": "stdout"
        },
        {
          "output_type": "display_data",
          "data": {
            "image/png": "[encoded data removed]",
            "text/plain": [
              "<Figure size 432x288 with 1 Axes>"
            ]
          },
          "metadata": {
            "tags": []
          }
        },
        {
          "output_type": "stream",
          "text": [
            "\n",
            "\n",
            "\n",
            "\t\t\t\t marital.status\n",
            "Married-civ-spouse       14976\n",
            "Never-married            10683\n",
            "Divorced                  4443\n",
            "Separated                 1025\n",
            "Widowed                    993\n",
            "Married-spouse-absent      418\n",
            "Married-AF-spouse           23\n",
            "Name: marital.status, dtype: int64\n"
          ],
          "name": "stdout"
        },
        {
          "output_type": "display_data",
          "data": {
            "image/png": "[encoded data removed]",
            "text/plain": [
              "<Figure size 432x288 with 1 Axes>"
            ]
          },
          "metadata": {
            "tags": []
          }
        },
        {
          "output_type": "stream",
          "text": [
            "\n",
            "\n",
            "\n",
            "\t\t\t\t occupation\n",
            "Prof-specialty       4140\n",
            "Craft-repair         4099\n",
            "Exec-managerial      4066\n",
            "Adm-clerical         3770\n",
            "Sales                3650\n",
            "Other-service        3295\n",
            "Machine-op-inspct    2002\n",
            "?                    1843\n",
            "Transport-moving     1597\n",
            "Handlers-cleaners    1370\n",
            "Farming-fishing       994\n",
            "Tech-support          928\n",
            "Protective-serv       649\n",
            "Priv-house-serv       149\n",
            "Armed-Forces            9\n",
            "Name: occupation, dtype: int64\n"
          ],
          "name": "stdout"
        },
        {
          "output_type": "display_data",
          "data": {
            "image/png": "[encoded data removed]",
            "text/plain": [
              "<Figure size 432x288 with 1 Axes>"
            ]
          },
          "metadata": {
            "tags": []
          }
        },
        {
          "output_type": "stream",
          "text": [
            "\n",
            "\n",
            "\n",
            "\t\t\t\t relationship\n",
            "Husband           13193\n",
            "Not-in-family      8305\n",
            "Own-child          5068\n",
            "Unmarried          3446\n",
            "Wife               1568\n",
            "Other-relative      981\n",
            "Name: relationship, dtype: int64\n"
          ],
          "name": "stdout"
        },
        {
          "output_type": "display_data",
          "data": {
            "image/png": "[encoded data removed]",
            "text/plain": [
              "<Figure size 432x288 with 1 Axes>"
            ]
          },
          "metadata": {
            "tags": []
          }
        },
        {
          "output_type": "stream",
          "text": [
            "\n",
            "\n",
            "\n",
            "\t\t\t\t race\n",
            "White                 27816\n",
            "Black                  3124\n",
            "Asian-Pac-Islander     1039\n",
            "Amer-Indian-Eskimo      311\n",
            "Other                   271\n",
            "Name: race, dtype: int64\n"
          ],
          "name": "stdout"
        },
        {
          "output_type": "display_data",
          "data": {
            "image/png": "[encoded data removed]",
            "text/plain": [
              "<Figure size 432x288 with 1 Axes>"
            ]
          },
          "metadata": {
            "tags": []
          }
        },
        {
          "output_type": "stream",
          "text": [
            "\n",
            "\n",
            "\n",
            "\t\t\t\t sex\n",
            "Male      21790\n",
            "Female    10771\n",
            "Name: sex, dtype: int64\n"
          ],
          "name": "stdout"
        },
        {
          "output_type": "display_data",
          "data": {
            "image/png": "[encoded data removed]",
            "text/plain": [
              "<Figure size 432x288 with 1 Axes>"
            ]
          },
          "metadata": {
            "tags": []
          }
        },
        {
          "output_type": "stream",
          "text": [
            "\n",
            "\n",
            "\n",
            "\t\t\t\t native.country\n",
            "United-States                 29170\n",
            "Mexico                          643\n",
            "?                               583\n",
            "Philippines                     198\n",
            "Germany                         137\n",
            "Canada                          121\n",
            "Puerto-Rico                     114\n",
            "El-Salvador                     106\n",
            "India                           100\n",
            "Cuba                             95\n",
            "England                          90\n",
            "Jamaica                          81\n",
            "South                            80\n",
            "China                            75\n",
            "Italy                            73\n",
            "Dominican-Republic               70\n",
            "Vietnam                          67\n",
            "Guatemala                        64\n",
            "Japan                            62\n",
            "Poland                           60\n",
            "Columbia                         59\n",
            "Taiwan                           51\n",
            "Haiti                            44\n",
            "Iran                             43\n",
            "Portugal                         37\n",
            "Nicaragua                        34\n",
            "Peru                             31\n",
            "Greece                           29\n",
            "France                           29\n",
            "Ecuador                          28\n",
            "Ireland                          24\n",
            "Hong                             20\n",
            "Trinadad&Tobago                  19\n",
            "Cambodia                         19\n",
            "Laos                             18\n",
            "Thailand                         18\n",
            "Yugoslavia                       16\n",
            "Outlying-US(Guam-USVI-etc)       14\n",
            "Hungary                          13\n",
            "Honduras                         13\n",
            "Scotland                         12\n",
            "Holand-Netherlands                1\n",
            "Name: native.country, dtype: int64\n"
          ],
          "name": "stdout"
        },
        {
          "output_type": "display_data",
          "data": {
            "image/png": "[encoded data removed]",
            "text/plain": [
              "<Figure size 432x288 with 1 Axes>"
            ]
          },
          "metadata": {
            "tags": []
          }
        },
        {
          "output_type": "stream",
          "text": [
            "\n",
            "\n",
            "\n",
            "\t\t\t\t income\n",
            "<=50K    24720\n",
            ">50K      7841\n",
            "Name: income, dtype: int64\n"
          ],
          "name": "stdout"
        },
        {
          "output_type": "display_data",
          "data": {
            "image/png": "[encoded data removed]",
            "text/plain": [
              "<Figure size 432x288 with 1 Axes>"
            ]
          },
          "metadata": {
            "tags": []
          }
        },
        {
          "output_type": "stream",
          "text": [
            "\n",
            "\n",
            "\n"
          ],
          "name": "stdout"
        }
      ]
    },
    {
      "cell_type": "markdown",
      "metadata": {
        "id": "mZ8AL5fCZRlu",
        "colab_type": "text"
      },
      "source": [
        "Observation :\n",
        "   -  ? in all columns need to be imputed\n",
        "   - Education column can be combined\n",
        "   - No changes needed for Relationship , Race and Sex columns\n",
        "   - Native country columns needs to be binned together since there are very less values for some countries"
      ]
    },
    {
      "cell_type": "code",
      "metadata": {
        "id": "XqyYManqZRlw",
        "colab_type": "code",
        "colab": {
          "base_uri": "https://localhost:8080/",
          "height": 296
        },
        "outputId": "3efa5d33-245f-4ae1-8e96-a043447b663e"
      },
      "source": [
        "#Cleaning Marital Status column\n",
        "df['marital.status'].replace({'Married-civ-spouse' : 'Married' ,\n",
        "                              'Divorced' : 'Separated' , \n",
        "                              'Married-AF-spouse' : 'Married' , \n",
        "                              'Married-spouse-absent':'Separated'},inplace = True)\n",
        "\n",
        "sns.countplot(df['marital.status'])"
      ],
      "execution_count": 46,
      "outputs": [
        {
          "output_type": "execute_result",
          "data": {
            "text/plain": [
              "<matplotlib.axes._subplots.AxesSubplot at 0x7f16ce3f04e0>"
            ]
          },
          "metadata": {
            "tags": []
          },
          "execution_count": 46
        },
        {
          "output_type": "display_data",
          "data": {
            "image/png": "[encoded data removed]",
            "text/plain": [
              "<Figure size 432x288 with 1 Axes>"
            ]
          },
          "metadata": {
            "tags": []
          }
        }
      ]
    },
    {
      "cell_type": "code",
      "metadata": {
        "id": "8IspuUK9ZRl_",
        "colab_type": "code",
        "colab": {
          "base_uri": "https://localhost:8080/",
          "height": 296
        },
        "outputId": "b39d80f7-6fa3-4d4a-899c-47f4e076d8c5"
      },
      "source": [
        "#Cleaning education column\n",
        "\n",
        "df['education'].replace({'HS-grad':'HighSchool' , \n",
        "                         'Some-college':'College' , \n",
        "                         'Bachelors' : 'Bachelor degree' , \n",
        "                         'Masters' : 'Masters Degree' ,\n",
        "                         'Assoc-voc' : 'College' , \n",
        "                         'Assoc-acdm':'College' , \n",
        "                         'Prof-school' : 'Masters Degree' , \n",
        "                         'Doctorate' : 'PhD' , \n",
        "                         '11th' : 'Dropout' , \n",
        "                         '10th' : 'Dropout' ,\n",
        "                         '7th-8th' : 'Dropout' ,\n",
        "                         '9th' : 'Dropout' , \n",
        "                         '12th' : 'Dropout' ,\n",
        "                         '5th-6th': 'Dropout' ,\n",
        "                         '1st-4th': 'Dropout' ,\n",
        "                         'Preschool':'Dropout'} , inplace = True)\n",
        "\n",
        "plt.figure(figsize=(10,4))\n",
        "sns.countplot(df['education'])"
      ],
      "execution_count": 47,
      "outputs": [
        {
          "output_type": "execute_result",
          "data": {
            "text/plain": [
              "<matplotlib.axes._subplots.AxesSubplot at 0x7f16cec8de80>"
            ]
          },
          "metadata": {
            "tags": []
          },
          "execution_count": 47
        },
        {
          "output_type": "display_data",
          "data": {
            "image/png": "[encoded data removed]",
            "text/plain": [
              "<Figure size 720x288 with 1 Axes>"
            ]
          },
          "metadata": {
            "tags": []
          }
        }
      ]
    },
    {
      "cell_type": "code",
      "metadata": {
        "id": "OBp0iyzrZRmH",
        "colab_type": "code",
        "colab": {
          "base_uri": "https://localhost:8080/",
          "height": 33
        },
        "outputId": "c508ed05-7004-469d-f852-06795f2453aa"
      },
      "source": [
        "#The number of columns with both occupation and workclass unknown\n",
        "\n",
        "df[(df['occupation'] == \"?\") & (df['workclass'] == \"?\")]['age'].count()\n",
        "\n",
        "#So a new cateogry called unknown is created for both occupation and workclass columns"
      ],
      "execution_count": 48,
      "outputs": [
        {
          "output_type": "execute_result",
          "data": {
            "text/plain": [
              "1836"
            ]
          },
          "metadata": {
            "tags": []
          },
          "execution_count": 48
        }
      ]
    },
    {
      "cell_type": "code",
      "metadata": {
        "id": "3stl96DYZRmO",
        "colab_type": "code",
        "colab": {
          "base_uri": "https://localhost:8080/",
          "height": 296
        },
        "outputId": "7153c361-2133-47ea-bb99-fd89b0af67de"
      },
      "source": [
        "#Imputing WorkClass\n",
        "sns.countplot(df[df['workclass'] == '?']['workclass'] , hue = df['income'])"
      ],
      "execution_count": 49,
      "outputs": [
        {
          "output_type": "execute_result",
          "data": {
            "text/plain": [
              "<matplotlib.axes._subplots.AxesSubplot at 0x7f16c8ec2c18>"
            ]
          },
          "metadata": {
            "tags": []
          },
          "execution_count": 49
        },
        {
          "output_type": "display_data",
          "data": {
            "image/png": "[encoded data removed]",
            "text/plain": [
              "<Figure size 432x288 with 1 Axes>"
            ]
          },
          "metadata": {
            "tags": []
          }
        }
      ]
    },
    {
      "cell_type": "code",
      "metadata": {
        "id": "D9qFU0XiZRmW",
        "colab_type": "code",
        "colab": {}
      },
      "source": [
        "#Since there are around 1800 unknown workclass we will create a new seperate unknown category\n",
        "df['workclass' ].replace({'?' : 'Unknown'} , inplace = True)\n",
        "df['occupation' ].replace({'?' : 'Unknown'} , inplace = True)"
      ],
      "execution_count": 0,
      "outputs": []
    },
    {
      "cell_type": "markdown",
      "metadata": {
        "id": "dnXtHSSTZRmg",
        "colab_type": "text"
      },
      "source": [
        "**FOR CONTINUOUS VARIABLES**"
      ]
    },
    {
      "cell_type": "code",
      "metadata": {
        "id": "vlymJNNRZRmj",
        "colab_type": "code",
        "colab": {
          "base_uri": "https://localhost:8080/",
          "height": 117
        },
        "outputId": "c022df20-7eee-487c-d356-7c9fd837b317"
      },
      "source": [
        "cont_col"
      ],
      "execution_count": 51,
      "outputs": [
        {
          "output_type": "execute_result",
          "data": {
            "text/plain": [
              "['age',\n",
              " 'fnlwgt',\n",
              " 'education.num',\n",
              " 'capital.gain',\n",
              " 'capital.loss',\n",
              " 'hours.per.week']"
            ]
          },
          "metadata": {
            "tags": []
          },
          "execution_count": 51
        }
      ]
    },
    {
      "cell_type": "code",
      "metadata": {
        "id": "LSQggzo4ZRmr",
        "colab_type": "code",
        "colab": {
          "base_uri": "https://localhost:8080/",
          "height": 286
        },
        "outputId": "5a04cb3c-e4ce-46b4-dad3-b50ddb2e54b0"
      },
      "source": [
        "df.describe()"
      ],
      "execution_count": 52,
      "outputs": [
        {
          "output_type": "execute_result",
          "data": {
            "text/html": [
              "<div>\n",
              "<style scoped>\n",
              "    .dataframe tbody tr th:only-of-type {\n",
              "        vertical-align: middle;\n",
              "    }\n",
              "\n",
              "    .dataframe tbody tr th {\n",
              "        vertical-align: top;\n",
              "    }\n",
              "\n",
              "    .dataframe thead th {\n",
              "        text-align: right;\n",
              "    }\n",
              "</style>\n",
              "<table border=\"1\" class=\"dataframe\">\n",
              "  <thead>\n",
              "    <tr style=\"text-align: right;\">\n",
              "      <th></th>\n",
              "      <th>age</th>\n",
              "      <th>fnlwgt</th>\n",
              "      <th>education.num</th>\n",
              "      <th>capital.gain</th>\n",
              "      <th>capital.loss</th>\n",
              "      <th>hours.per.week</th>\n",
              "    </tr>\n",
              "  </thead>\n",
              "  <tbody>\n",
              "    <tr>\n",
              "      <th>count</th>\n",
              "      <td>32561.000000</td>\n",
              "      <td>3.256100e+04</td>\n",
              "      <td>32561.000000</td>\n",
              "      <td>32561.000000</td>\n",
              "      <td>32561.000000</td>\n",
              "      <td>32561.000000</td>\n",
              "    </tr>\n",
              "    <tr>\n",
              "      <th>mean</th>\n",
              "      <td>38.581647</td>\n",
              "      <td>1.897784e+05</td>\n",
              "      <td>10.080679</td>\n",
              "      <td>1077.648844</td>\n",
              "      <td>87.303830</td>\n",
              "      <td>40.437456</td>\n",
              "    </tr>\n",
              "    <tr>\n",
              "      <th>std</th>\n",
              "      <td>13.640433</td>\n",
              "      <td>1.055500e+05</td>\n",
              "      <td>2.572720</td>\n",
              "      <td>7385.292085</td>\n",
              "      <td>402.960219</td>\n",
              "      <td>12.347429</td>\n",
              "    </tr>\n",
              "    <tr>\n",
              "      <th>min</th>\n",
              "      <td>17.000000</td>\n",
              "      <td>1.228500e+04</td>\n",
              "      <td>1.000000</td>\n",
              "      <td>0.000000</td>\n",
              "      <td>0.000000</td>\n",
              "      <td>1.000000</td>\n",
              "    </tr>\n",
              "    <tr>\n",
              "      <th>25%</th>\n",
              "      <td>28.000000</td>\n",
              "      <td>1.178270e+05</td>\n",
              "      <td>9.000000</td>\n",
              "      <td>0.000000</td>\n",
              "      <td>0.000000</td>\n",
              "      <td>40.000000</td>\n",
              "    </tr>\n",
              "    <tr>\n",
              "      <th>50%</th>\n",
              "      <td>37.000000</td>\n",
              "      <td>1.783560e+05</td>\n",
              "      <td>10.000000</td>\n",
              "      <td>0.000000</td>\n",
              "      <td>0.000000</td>\n",
              "      <td>40.000000</td>\n",
              "    </tr>\n",
              "    <tr>\n",
              "      <th>75%</th>\n",
              "      <td>48.000000</td>\n",
              "      <td>2.370510e+05</td>\n",
              "      <td>12.000000</td>\n",
              "      <td>0.000000</td>\n",
              "      <td>0.000000</td>\n",
              "      <td>45.000000</td>\n",
              "    </tr>\n",
              "    <tr>\n",
              "      <th>max</th>\n",
              "      <td>90.000000</td>\n",
              "      <td>1.484705e+06</td>\n",
              "      <td>16.000000</td>\n",
              "      <td>99999.000000</td>\n",
              "      <td>4356.000000</td>\n",
              "      <td>99.000000</td>\n",
              "    </tr>\n",
              "  </tbody>\n",
              "</table>\n",
              "</div>"
            ],
            "text/plain": [
              "                age        fnlwgt  education.num  capital.gain  capital.loss  \\\n",
              "count  32561.000000  3.256100e+04   32561.000000  32561.000000  32561.000000   \n",
              "mean      38.581647  1.897784e+05      10.080679   1077.648844     87.303830   \n",
              "std       13.640433  1.055500e+05       2.572720   7385.292085    402.960219   \n",
              "min       17.000000  1.228500e+04       1.000000      0.000000      0.000000   \n",
              "25%       28.000000  1.178270e+05       9.000000      0.000000      0.000000   \n",
              "50%       37.000000  1.783560e+05      10.000000      0.000000      0.000000   \n",
              "75%       48.000000  2.370510e+05      12.000000      0.000000      0.000000   \n",
              "max       90.000000  1.484705e+06      16.000000  99999.000000   4356.000000   \n",
              "\n",
              "       hours.per.week  \n",
              "count    32561.000000  \n",
              "mean        40.437456  \n",
              "std         12.347429  \n",
              "min          1.000000  \n",
              "25%         40.000000  \n",
              "50%         40.000000  \n",
              "75%         45.000000  \n",
              "max         99.000000  "
            ]
          },
          "metadata": {
            "tags": []
          },
          "execution_count": 52
        }
      ]
    },
    {
      "cell_type": "code",
      "metadata": {
        "id": "n941m3sXZRm1",
        "colab_type": "code",
        "colab": {
          "base_uri": "https://localhost:8080/",
          "height": 1000
        },
        "outputId": "e81b7685-8af8-4d75-ced3-b2b7c2f725e9"
      },
      "source": [
        "#Box plot and distplot for all continuous variables\n",
        "for i in ['age','fnlwgt','education.num','hours.per.week']:\n",
        "    print('\\t\\t\\t\\t',i)\n",
        "    plt.figure(figsize=(10,5))\n",
        "    plt.subplot(1,2,1)\n",
        "    plt.title('Boxplot')\n",
        "    df[i].plot(kind= 'box')\n",
        "    plt.subplot(1,2,2)\n",
        "    plt.title('Distribution plot')\n",
        "    sns.distplot(df[i],hist = False )\n",
        "    plt.show()"
      ],
      "execution_count": 53,
      "outputs": [
        {
          "output_type": "stream",
          "text": [
            "\t\t\t\t age\n"
          ],
          "name": "stdout"
        },
        {
          "output_type": "display_data",
          "data": {
            "image/png": "[encoded data removed]",
            "text/plain": [
              "<Figure size 720x360 with 2 Axes>"
            ]
          },
          "metadata": {
            "tags": []
          }
        },
        {
          "output_type": "stream",
          "text": [
            "\t\t\t\t fnlwgt\n"
          ],
          "name": "stdout"
        },
        {
          "output_type": "display_data",
          "data": {
            "image/png": "[encoded data removed]",
            "text/plain": [
              "<Figure size 720x360 with 2 Axes>"
            ]
          },
          "metadata": {
            "tags": []
          }
        },
        {
          "output_type": "stream",
          "text": [
            "\t\t\t\t education.num\n"
          ],
          "name": "stdout"
        },
        {
          "output_type": "display_data",
          "data": {
            "image/png": "[encoded data removed]",
            "text/plain": [
              "<Figure size 720x360 with 2 Axes>"
            ]
          },
          "metadata": {
            "tags": []
          }
        },
        {
          "output_type": "stream",
          "text": [
            "\t\t\t\t hours.per.week\n"
          ],
          "name": "stdout"
        },
        {
          "output_type": "display_data",
          "data": {
            "image/png": "[encoded data removed]",
            "text/plain": [
              "<Figure size 720x360 with 2 Axes>"
            ]
          },
          "metadata": {
            "tags": []
          }
        }
      ]
    },
    {
      "cell_type": "code",
      "metadata": {
        "id": "5WiDlekGZRm8",
        "colab_type": "code",
        "colab": {
          "base_uri": "https://localhost:8080/",
          "height": 395
        },
        "outputId": "eb7a55d0-08d9-4381-82eb-e14e64a4f92a"
      },
      "source": [
        "plt.figure(figsize=(10,6))\n",
        "sns.heatmap(df.corr() , annot =True , cmap = 'summer' )"
      ],
      "execution_count": 54,
      "outputs": [
        {
          "output_type": "execute_result",
          "data": {
            "text/plain": [
              "<matplotlib.axes._subplots.AxesSubplot at 0x7f16c906a0b8>"
            ]
          },
          "metadata": {
            "tags": []
          },
          "execution_count": 54
        },
        {
          "output_type": "display_data",
          "data": {
            "image/png": "[encoded data removed]",
            "text/plain": [
              "<Figure size 720x432 with 2 Axes>"
            ]
          },
          "metadata": {
            "tags": []
          }
        }
      ]
    },
    {
      "cell_type": "code",
      "metadata": {
        "id": "EBooiyvGZRnF",
        "colab_type": "code",
        "colab": {}
      },
      "source": [
        "#Creating copy of the dataframe df_n\n",
        "df_n = df.copy()"
      ],
      "execution_count": 0,
      "outputs": []
    },
    {
      "cell_type": "code",
      "metadata": {
        "id": "_rIG00nRZRnP",
        "colab_type": "code",
        "colab": {
          "base_uri": "https://localhost:8080/",
          "height": 167
        },
        "outputId": "64444638-c1e8-47e0-b5e3-060edbdc1cc6"
      },
      "source": [
        "#The following code does the one hot encoding only when the frequency of each category is greater than 50. \n",
        "#After encoding then the first column is dropped inorder to avoid the curse of dimensionality.\n",
        "#And it deletes the original column after encoding\n",
        "\n",
        "print('The Encoding is applied for: ')\n",
        "for col in cat_col[:-1]:\n",
        "    freqs=df_n[col].value_counts()\n",
        "    k=freqs.index[freqs>50][:-1]\n",
        "    for cat in k:\n",
        "        name=col+'_'+cat\n",
        "        df_n[name]=(df_n[col]==cat).astype(int)\n",
        "    del df_n[col]\n",
        "    print(col)\n"
      ],
      "execution_count": 56,
      "outputs": [
        {
          "output_type": "stream",
          "text": [
            "The Encoding is applied for: \n",
            "workclass\n",
            "education\n",
            "marital.status\n",
            "occupation\n",
            "relationship\n",
            "race\n",
            "sex\n",
            "native.country\n"
          ],
          "name": "stdout"
        }
      ]
    },
    {
      "cell_type": "code",
      "metadata": {
        "id": "8Pp-cKeNZRnZ",
        "colab_type": "code",
        "colab": {
          "base_uri": "https://localhost:8080/",
          "height": 250
        },
        "outputId": "8b7d9225-1970-4c88-b08c-52a7067fc557"
      },
      "source": [
        "#EDA is done for our datasets\n",
        "df_n.head()"
      ],
      "execution_count": 57,
      "outputs": [
        {
          "output_type": "execute_result",
          "data": {
            "text/html": [
              "<div>\n",
              "<style scoped>\n",
              "    .dataframe tbody tr th:only-of-type {\n",
              "        vertical-align: middle;\n",
              "    }\n",
              "\n",
              "    .dataframe tbody tr th {\n",
              "        vertical-align: top;\n",
              "    }\n",
              "\n",
              "    .dataframe thead th {\n",
              "        text-align: right;\n",
              "    }\n",
              "</style>\n",
              "<table border=\"1\" class=\"dataframe\">\n",
              "  <thead>\n",
              "    <tr style=\"text-align: right;\">\n",
              "      <th></th>\n",
              "      <th>age</th>\n",
              "      <th>fnlwgt</th>\n",
              "      <th>education.num</th>\n",
              "      <th>capital.gain</th>\n",
              "      <th>capital.loss</th>\n",
              "      <th>hours.per.week</th>\n",
              "      <th>income</th>\n",
              "      <th>workclass_Private</th>\n",
              "      <th>workclass_Self-emp-not-inc</th>\n",
              "      <th>workclass_Local-gov</th>\n",
              "      <th>workclass_Unknown</th>\n",
              "      <th>workclass_State-gov</th>\n",
              "      <th>workclass_Self-emp-inc</th>\n",
              "      <th>education_HighSchool</th>\n",
              "      <th>education_College</th>\n",
              "      <th>education_Bachelor degree</th>\n",
              "      <th>education_Dropout</th>\n",
              "      <th>education_Masters Degree</th>\n",
              "      <th>marital.status_Married</th>\n",
              "      <th>marital.status_Never-married</th>\n",
              "      <th>marital.status_Separated</th>\n",
              "      <th>occupation_Prof-specialty</th>\n",
              "      <th>occupation_Craft-repair</th>\n",
              "      <th>occupation_Exec-managerial</th>\n",
              "      <th>occupation_Adm-clerical</th>\n",
              "      <th>occupation_Sales</th>\n",
              "      <th>occupation_Other-service</th>\n",
              "      <th>occupation_Machine-op-inspct</th>\n",
              "      <th>occupation_Unknown</th>\n",
              "      <th>occupation_Transport-moving</th>\n",
              "      <th>occupation_Handlers-cleaners</th>\n",
              "      <th>occupation_Farming-fishing</th>\n",
              "      <th>occupation_Tech-support</th>\n",
              "      <th>occupation_Protective-serv</th>\n",
              "      <th>relationship_Husband</th>\n",
              "      <th>relationship_Not-in-family</th>\n",
              "      <th>relationship_Own-child</th>\n",
              "      <th>relationship_Unmarried</th>\n",
              "      <th>relationship_Wife</th>\n",
              "      <th>race_White</th>\n",
              "      <th>race_Black</th>\n",
              "      <th>race_Asian-Pac-Islander</th>\n",
              "      <th>race_Amer-Indian-Eskimo</th>\n",
              "      <th>sex_Male</th>\n",
              "      <th>native.country_United-States</th>\n",
              "      <th>native.country_Mexico</th>\n",
              "      <th>native.country_?</th>\n",
              "      <th>native.country_Philippines</th>\n",
              "      <th>native.country_Germany</th>\n",
              "      <th>native.country_Canada</th>\n",
              "      <th>native.country_Puerto-Rico</th>\n",
              "      <th>native.country_El-Salvador</th>\n",
              "      <th>native.country_India</th>\n",
              "      <th>native.country_Cuba</th>\n",
              "      <th>native.country_England</th>\n",
              "      <th>native.country_Jamaica</th>\n",
              "      <th>native.country_South</th>\n",
              "      <th>native.country_China</th>\n",
              "      <th>native.country_Italy</th>\n",
              "      <th>native.country_Dominican-Republic</th>\n",
              "      <th>native.country_Vietnam</th>\n",
              "      <th>native.country_Guatemala</th>\n",
              "      <th>native.country_Japan</th>\n",
              "      <th>native.country_Poland</th>\n",
              "      <th>native.country_Columbia</th>\n",
              "    </tr>\n",
              "  </thead>\n",
              "  <tbody>\n",
              "    <tr>\n",
              "      <th>0</th>\n",
              "      <td>90</td>\n",
              "      <td>77053</td>\n",
              "      <td>9</td>\n",
              "      <td>0</td>\n",
              "      <td>4356</td>\n",
              "      <td>40</td>\n",
              "      <td>&lt;=50K</td>\n",
              "      <td>0</td>\n",
              "      <td>0</td>\n",
              "      <td>0</td>\n",
              "      <td>1</td>\n",
              "      <td>0</td>\n",
              "      <td>0</td>\n",
              "      <td>1</td>\n",
              "      <td>0</td>\n",
              "      <td>0</td>\n",
              "      <td>0</td>\n",
              "      <td>0</td>\n",
              "      <td>0</td>\n",
              "      <td>0</td>\n",
              "      <td>0</td>\n",
              "      <td>0</td>\n",
              "      <td>0</td>\n",
              "      <td>0</td>\n",
              "      <td>0</td>\n",
              "      <td>0</td>\n",
              "      <td>0</td>\n",
              "      <td>0</td>\n",
              "      <td>1</td>\n",
              "      <td>0</td>\n",
              "      <td>0</td>\n",
              "      <td>0</td>\n",
              "      <td>0</td>\n",
              "      <td>0</td>\n",
              "      <td>0</td>\n",
              "      <td>1</td>\n",
              "      <td>0</td>\n",
              "      <td>0</td>\n",
              "      <td>0</td>\n",
              "      <td>1</td>\n",
              "      <td>0</td>\n",
              "      <td>0</td>\n",
              "      <td>0</td>\n",
              "      <td>0</td>\n",
              "      <td>1</td>\n",
              "      <td>0</td>\n",
              "      <td>0</td>\n",
              "      <td>0</td>\n",
              "      <td>0</td>\n",
              "      <td>0</td>\n",
              "      <td>0</td>\n",
              "      <td>0</td>\n",
              "      <td>0</td>\n",
              "      <td>0</td>\n",
              "      <td>0</td>\n",
              "      <td>0</td>\n",
              "      <td>0</td>\n",
              "      <td>0</td>\n",
              "      <td>0</td>\n",
              "      <td>0</td>\n",
              "      <td>0</td>\n",
              "      <td>0</td>\n",
              "      <td>0</td>\n",
              "      <td>0</td>\n",
              "      <td>0</td>\n",
              "    </tr>\n",
              "    <tr>\n",
              "      <th>1</th>\n",
              "      <td>82</td>\n",
              "      <td>132870</td>\n",
              "      <td>9</td>\n",
              "      <td>0</td>\n",
              "      <td>4356</td>\n",
              "      <td>18</td>\n",
              "      <td>&lt;=50K</td>\n",
              "      <td>1</td>\n",
              "      <td>0</td>\n",
              "      <td>0</td>\n",
              "      <td>0</td>\n",
              "      <td>0</td>\n",
              "      <td>0</td>\n",
              "      <td>1</td>\n",
              "      <td>0</td>\n",
              "      <td>0</td>\n",
              "      <td>0</td>\n",
              "      <td>0</td>\n",
              "      <td>0</td>\n",
              "      <td>0</td>\n",
              "      <td>0</td>\n",
              "      <td>0</td>\n",
              "      <td>0</td>\n",
              "      <td>1</td>\n",
              "      <td>0</td>\n",
              "      <td>0</td>\n",
              "      <td>0</td>\n",
              "      <td>0</td>\n",
              "      <td>0</td>\n",
              "      <td>0</td>\n",
              "      <td>0</td>\n",
              "      <td>0</td>\n",
              "      <td>0</td>\n",
              "      <td>0</td>\n",
              "      <td>0</td>\n",
              "      <td>1</td>\n",
              "      <td>0</td>\n",
              "      <td>0</td>\n",
              "      <td>0</td>\n",
              "      <td>1</td>\n",
              "      <td>0</td>\n",
              "      <td>0</td>\n",
              "      <td>0</td>\n",
              "      <td>0</td>\n",
              "      <td>1</td>\n",
              "      <td>0</td>\n",
              "      <td>0</td>\n",
              "      <td>0</td>\n",
              "      <td>0</td>\n",
              "      <td>0</td>\n",
              "      <td>0</td>\n",
              "      <td>0</td>\n",
              "      <td>0</td>\n",
              "      <td>0</td>\n",
              "      <td>0</td>\n",
              "      <td>0</td>\n",
              "      <td>0</td>\n",
              "      <td>0</td>\n",
              "      <td>0</td>\n",
              "      <td>0</td>\n",
              "      <td>0</td>\n",
              "      <td>0</td>\n",
              "      <td>0</td>\n",
              "      <td>0</td>\n",
              "      <td>0</td>\n",
              "    </tr>\n",
              "    <tr>\n",
              "      <th>2</th>\n",
              "      <td>66</td>\n",
              "      <td>186061</td>\n",
              "      <td>10</td>\n",
              "      <td>0</td>\n",
              "      <td>4356</td>\n",
              "      <td>40</td>\n",
              "      <td>&lt;=50K</td>\n",
              "      <td>0</td>\n",
              "      <td>0</td>\n",
              "      <td>0</td>\n",
              "      <td>1</td>\n",
              "      <td>0</td>\n",
              "      <td>0</td>\n",
              "      <td>0</td>\n",
              "      <td>1</td>\n",
              "      <td>0</td>\n",
              "      <td>0</td>\n",
              "      <td>0</td>\n",
              "      <td>0</td>\n",
              "      <td>0</td>\n",
              "      <td>0</td>\n",
              "      <td>0</td>\n",
              "      <td>0</td>\n",
              "      <td>0</td>\n",
              "      <td>0</td>\n",
              "      <td>0</td>\n",
              "      <td>0</td>\n",
              "      <td>0</td>\n",
              "      <td>1</td>\n",
              "      <td>0</td>\n",
              "      <td>0</td>\n",
              "      <td>0</td>\n",
              "      <td>0</td>\n",
              "      <td>0</td>\n",
              "      <td>0</td>\n",
              "      <td>0</td>\n",
              "      <td>0</td>\n",
              "      <td>1</td>\n",
              "      <td>0</td>\n",
              "      <td>0</td>\n",
              "      <td>1</td>\n",
              "      <td>0</td>\n",
              "      <td>0</td>\n",
              "      <td>0</td>\n",
              "      <td>1</td>\n",
              "      <td>0</td>\n",
              "      <td>0</td>\n",
              "      <td>0</td>\n",
              "      <td>0</td>\n",
              "      <td>0</td>\n",
              "      <td>0</td>\n",
              "      <td>0</td>\n",
              "      <td>0</td>\n",
              "      <td>0</td>\n",
              "      <td>0</td>\n",
              "      <td>0</td>\n",
              "      <td>0</td>\n",
              "      <td>0</td>\n",
              "      <td>0</td>\n",
              "      <td>0</td>\n",
              "      <td>0</td>\n",
              "      <td>0</td>\n",
              "      <td>0</td>\n",
              "      <td>0</td>\n",
              "      <td>0</td>\n",
              "    </tr>\n",
              "    <tr>\n",
              "      <th>3</th>\n",
              "      <td>54</td>\n",
              "      <td>140359</td>\n",
              "      <td>4</td>\n",
              "      <td>0</td>\n",
              "      <td>3900</td>\n",
              "      <td>40</td>\n",
              "      <td>&lt;=50K</td>\n",
              "      <td>1</td>\n",
              "      <td>0</td>\n",
              "      <td>0</td>\n",
              "      <td>0</td>\n",
              "      <td>0</td>\n",
              "      <td>0</td>\n",
              "      <td>0</td>\n",
              "      <td>0</td>\n",
              "      <td>0</td>\n",
              "      <td>1</td>\n",
              "      <td>0</td>\n",
              "      <td>0</td>\n",
              "      <td>0</td>\n",
              "      <td>1</td>\n",
              "      <td>0</td>\n",
              "      <td>0</td>\n",
              "      <td>0</td>\n",
              "      <td>0</td>\n",
              "      <td>0</td>\n",
              "      <td>0</td>\n",
              "      <td>1</td>\n",
              "      <td>0</td>\n",
              "      <td>0</td>\n",
              "      <td>0</td>\n",
              "      <td>0</td>\n",
              "      <td>0</td>\n",
              "      <td>0</td>\n",
              "      <td>0</td>\n",
              "      <td>0</td>\n",
              "      <td>0</td>\n",
              "      <td>1</td>\n",
              "      <td>0</td>\n",
              "      <td>1</td>\n",
              "      <td>0</td>\n",
              "      <td>0</td>\n",
              "      <td>0</td>\n",
              "      <td>0</td>\n",
              "      <td>1</td>\n",
              "      <td>0</td>\n",
              "      <td>0</td>\n",
              "      <td>0</td>\n",
              "      <td>0</td>\n",
              "      <td>0</td>\n",
              "      <td>0</td>\n",
              "      <td>0</td>\n",
              "      <td>0</td>\n",
              "      <td>0</td>\n",
              "      <td>0</td>\n",
              "      <td>0</td>\n",
              "      <td>0</td>\n",
              "      <td>0</td>\n",
              "      <td>0</td>\n",
              "      <td>0</td>\n",
              "      <td>0</td>\n",
              "      <td>0</td>\n",
              "      <td>0</td>\n",
              "      <td>0</td>\n",
              "      <td>0</td>\n",
              "    </tr>\n",
              "    <tr>\n",
              "      <th>4</th>\n",
              "      <td>41</td>\n",
              "      <td>264663</td>\n",
              "      <td>10</td>\n",
              "      <td>0</td>\n",
              "      <td>3900</td>\n",
              "      <td>40</td>\n",
              "      <td>&lt;=50K</td>\n",
              "      <td>1</td>\n",
              "      <td>0</td>\n",
              "      <td>0</td>\n",
              "      <td>0</td>\n",
              "      <td>0</td>\n",
              "      <td>0</td>\n",
              "      <td>0</td>\n",
              "      <td>1</td>\n",
              "      <td>0</td>\n",
              "      <td>0</td>\n",
              "      <td>0</td>\n",
              "      <td>0</td>\n",
              "      <td>0</td>\n",
              "      <td>1</td>\n",
              "      <td>1</td>\n",
              "      <td>0</td>\n",
              "      <td>0</td>\n",
              "      <td>0</td>\n",
              "      <td>0</td>\n",
              "      <td>0</td>\n",
              "      <td>0</td>\n",
              "      <td>0</td>\n",
              "      <td>0</td>\n",
              "      <td>0</td>\n",
              "      <td>0</td>\n",
              "      <td>0</td>\n",
              "      <td>0</td>\n",
              "      <td>0</td>\n",
              "      <td>0</td>\n",
              "      <td>1</td>\n",
              "      <td>0</td>\n",
              "      <td>0</td>\n",
              "      <td>1</td>\n",
              "      <td>0</td>\n",
              "      <td>0</td>\n",
              "      <td>0</td>\n",
              "      <td>0</td>\n",
              "      <td>1</td>\n",
              "      <td>0</td>\n",
              "      <td>0</td>\n",
              "      <td>0</td>\n",
              "      <td>0</td>\n",
              "      <td>0</td>\n",
              "      <td>0</td>\n",
              "      <td>0</td>\n",
              "      <td>0</td>\n",
              "      <td>0</td>\n",
              "      <td>0</td>\n",
              "      <td>0</td>\n",
              "      <td>0</td>\n",
              "      <td>0</td>\n",
              "      <td>0</td>\n",
              "      <td>0</td>\n",
              "      <td>0</td>\n",
              "      <td>0</td>\n",
              "      <td>0</td>\n",
              "      <td>0</td>\n",
              "      <td>0</td>\n",
              "    </tr>\n",
              "  </tbody>\n",
              "</table>\n",
              "</div>"
            ],
            "text/plain": [
              "   age  fnlwgt  education.num  capital.gain  capital.loss  hours.per.week  \\\n",
              "0   90   77053              9             0          4356              40   \n",
              "1   82  132870              9             0          4356              18   \n",
              "2   66  186061             10             0          4356              40   \n",
              "3   54  140359              4             0          3900              40   \n",
              "4   41  264663             10             0          3900              40   \n",
              "\n",
              "  income  workclass_Private  workclass_Self-emp-not-inc  workclass_Local-gov  \\\n",
              "0  <=50K                  0                           0                    0   \n",
              "1  <=50K                  1                           0                    0   \n",
              "2  <=50K                  0                           0                    0   \n",
              "3  <=50K                  1                           0                    0   \n",
              "4  <=50K                  1                           0                    0   \n",
              "\n",
              "   workclass_Unknown  workclass_State-gov  workclass_Self-emp-inc  \\\n",
              "0                  1                    0                       0   \n",
              "1                  0                    0                       0   \n",
              "2                  1                    0                       0   \n",
              "3                  0                    0                       0   \n",
              "4                  0                    0                       0   \n",
              "\n",
              "   education_HighSchool  education_College  education_Bachelor degree  \\\n",
              "0                     1                  0                          0   \n",
              "1                     1                  0                          0   \n",
              "2                     0                  1                          0   \n",
              "3                     0                  0                          0   \n",
              "4                     0                  1                          0   \n",
              "\n",
              "   education_Dropout  education_Masters Degree  marital.status_Married  \\\n",
              "0                  0                         0                       0   \n",
              "1                  0                         0                       0   \n",
              "2                  0                         0                       0   \n",
              "3                  1                         0                       0   \n",
              "4                  0                         0                       0   \n",
              "\n",
              "   marital.status_Never-married  marital.status_Separated  \\\n",
              "0                             0                         0   \n",
              "1                             0                         0   \n",
              "2                             0                         0   \n",
              "3                             0                         1   \n",
              "4                             0                         1   \n",
              "\n",
              "   occupation_Prof-specialty  occupation_Craft-repair  \\\n",
              "0                          0                        0   \n",
              "1                          0                        0   \n",
              "2                          0                        0   \n",
              "3                          0                        0   \n",
              "4                          1                        0   \n",
              "\n",
              "   occupation_Exec-managerial  occupation_Adm-clerical  occupation_Sales  \\\n",
              "0                           0                        0                 0   \n",
              "1                           1                        0                 0   \n",
              "2                           0                        0                 0   \n",
              "3                           0                        0                 0   \n",
              "4                           0                        0                 0   \n",
              "\n",
              "   occupation_Other-service  occupation_Machine-op-inspct  occupation_Unknown  \\\n",
              "0                         0                             0                   1   \n",
              "1                         0                             0                   0   \n",
              "2                         0                             0                   1   \n",
              "3                         0                             1                   0   \n",
              "4                         0                             0                   0   \n",
              "\n",
              "   occupation_Transport-moving  occupation_Handlers-cleaners  \\\n",
              "0                            0                             0   \n",
              "1                            0                             0   \n",
              "2                            0                             0   \n",
              "3                            0                             0   \n",
              "4                            0                             0   \n",
              "\n",
              "   occupation_Farming-fishing  occupation_Tech-support  \\\n",
              "0                           0                        0   \n",
              "1                           0                        0   \n",
              "2                           0                        0   \n",
              "3                           0                        0   \n",
              "4                           0                        0   \n",
              "\n",
              "   occupation_Protective-serv  relationship_Husband  \\\n",
              "0                           0                     0   \n",
              "1                           0                     0   \n",
              "2                           0                     0   \n",
              "3                           0                     0   \n",
              "4                           0                     0   \n",
              "\n",
              "   relationship_Not-in-family  relationship_Own-child  relationship_Unmarried  \\\n",
              "0                           1                       0                       0   \n",
              "1                           1                       0                       0   \n",
              "2                           0                       0                       1   \n",
              "3                           0                       0                       1   \n",
              "4                           0                       1                       0   \n",
              "\n",
              "   relationship_Wife  race_White  race_Black  race_Asian-Pac-Islander  \\\n",
              "0                  0           1           0                        0   \n",
              "1                  0           1           0                        0   \n",
              "2                  0           0           1                        0   \n",
              "3                  0           1           0                        0   \n",
              "4                  0           1           0                        0   \n",
              "\n",
              "   race_Amer-Indian-Eskimo  sex_Male  native.country_United-States  \\\n",
              "0                        0         0                             1   \n",
              "1                        0         0                             1   \n",
              "2                        0         0                             1   \n",
              "3                        0         0                             1   \n",
              "4                        0         0                             1   \n",
              "\n",
              "   native.country_Mexico  native.country_?  native.country_Philippines  \\\n",
              "0                      0                 0                           0   \n",
              "1                      0                 0                           0   \n",
              "2                      0                 0                           0   \n",
              "3                      0                 0                           0   \n",
              "4                      0                 0                           0   \n",
              "\n",
              "   native.country_Germany  native.country_Canada  native.country_Puerto-Rico  \\\n",
              "0                       0                      0                           0   \n",
              "1                       0                      0                           0   \n",
              "2                       0                      0                           0   \n",
              "3                       0                      0                           0   \n",
              "4                       0                      0                           0   \n",
              "\n",
              "   native.country_El-Salvador  native.country_India  native.country_Cuba  \\\n",
              "0                           0                     0                    0   \n",
              "1                           0                     0                    0   \n",
              "2                           0                     0                    0   \n",
              "3                           0                     0                    0   \n",
              "4                           0                     0                    0   \n",
              "\n",
              "   native.country_England  native.country_Jamaica  native.country_South  \\\n",
              "0                       0                       0                     0   \n",
              "1                       0                       0                     0   \n",
              "2                       0                       0                     0   \n",
              "3                       0                       0                     0   \n",
              "4                       0                       0                     0   \n",
              "\n",
              "   native.country_China  native.country_Italy  \\\n",
              "0                     0                     0   \n",
              "1                     0                     0   \n",
              "2                     0                     0   \n",
              "3                     0                     0   \n",
              "4                     0                     0   \n",
              "\n",
              "   native.country_Dominican-Republic  native.country_Vietnam  \\\n",
              "0                                  0                       0   \n",
              "1                                  0                       0   \n",
              "2                                  0                       0   \n",
              "3                                  0                       0   \n",
              "4                                  0                       0   \n",
              "\n",
              "   native.country_Guatemala  native.country_Japan  native.country_Poland  \\\n",
              "0                         0                     0                      0   \n",
              "1                         0                     0                      0   \n",
              "2                         0                     0                      0   \n",
              "3                         0                     0                      0   \n",
              "4                         0                     0                      0   \n",
              "\n",
              "   native.country_Columbia  \n",
              "0                        0  \n",
              "1                        0  \n",
              "2                        0  \n",
              "3                        0  \n",
              "4                        0  "
            ]
          },
          "metadata": {
            "tags": []
          },
          "execution_count": 57
        }
      ]
    },
    {
      "cell_type": "code",
      "metadata": {
        "id": "lDLKpYI-ZRng",
        "colab_type": "code",
        "colab": {
          "base_uri": "https://localhost:8080/",
          "height": 190
        },
        "outputId": "1c3613dc-49fd-47c4-9e1a-032957105367"
      },
      "source": [
        "#Checking our Target column\n",
        "df_n.groupby(by = 'income').count()"
      ],
      "execution_count": 58,
      "outputs": [
        {
          "output_type": "execute_result",
          "data": {
            "text/html": [
              "<div>\n",
              "<style scoped>\n",
              "    .dataframe tbody tr th:only-of-type {\n",
              "        vertical-align: middle;\n",
              "    }\n",
              "\n",
              "    .dataframe tbody tr th {\n",
              "        vertical-align: top;\n",
              "    }\n",
              "\n",
              "    .dataframe thead th {\n",
              "        text-align: right;\n",
              "    }\n",
              "</style>\n",
              "<table border=\"1\" class=\"dataframe\">\n",
              "  <thead>\n",
              "    <tr style=\"text-align: right;\">\n",
              "      <th></th>\n",
              "      <th>age</th>\n",
              "      <th>fnlwgt</th>\n",
              "      <th>education.num</th>\n",
              "      <th>capital.gain</th>\n",
              "      <th>capital.loss</th>\n",
              "      <th>hours.per.week</th>\n",
              "      <th>workclass_Private</th>\n",
              "      <th>workclass_Self-emp-not-inc</th>\n",
              "      <th>workclass_Local-gov</th>\n",
              "      <th>workclass_Unknown</th>\n",
              "      <th>workclass_State-gov</th>\n",
              "      <th>workclass_Self-emp-inc</th>\n",
              "      <th>education_HighSchool</th>\n",
              "      <th>education_College</th>\n",
              "      <th>education_Bachelor degree</th>\n",
              "      <th>education_Dropout</th>\n",
              "      <th>education_Masters Degree</th>\n",
              "      <th>marital.status_Married</th>\n",
              "      <th>marital.status_Never-married</th>\n",
              "      <th>marital.status_Separated</th>\n",
              "      <th>occupation_Prof-specialty</th>\n",
              "      <th>occupation_Craft-repair</th>\n",
              "      <th>occupation_Exec-managerial</th>\n",
              "      <th>occupation_Adm-clerical</th>\n",
              "      <th>occupation_Sales</th>\n",
              "      <th>occupation_Other-service</th>\n",
              "      <th>occupation_Machine-op-inspct</th>\n",
              "      <th>occupation_Unknown</th>\n",
              "      <th>occupation_Transport-moving</th>\n",
              "      <th>occupation_Handlers-cleaners</th>\n",
              "      <th>occupation_Farming-fishing</th>\n",
              "      <th>occupation_Tech-support</th>\n",
              "      <th>occupation_Protective-serv</th>\n",
              "      <th>relationship_Husband</th>\n",
              "      <th>relationship_Not-in-family</th>\n",
              "      <th>relationship_Own-child</th>\n",
              "      <th>relationship_Unmarried</th>\n",
              "      <th>relationship_Wife</th>\n",
              "      <th>race_White</th>\n",
              "      <th>race_Black</th>\n",
              "      <th>race_Asian-Pac-Islander</th>\n",
              "      <th>race_Amer-Indian-Eskimo</th>\n",
              "      <th>sex_Male</th>\n",
              "      <th>native.country_United-States</th>\n",
              "      <th>native.country_Mexico</th>\n",
              "      <th>native.country_?</th>\n",
              "      <th>native.country_Philippines</th>\n",
              "      <th>native.country_Germany</th>\n",
              "      <th>native.country_Canada</th>\n",
              "      <th>native.country_Puerto-Rico</th>\n",
              "      <th>native.country_El-Salvador</th>\n",
              "      <th>native.country_India</th>\n",
              "      <th>native.country_Cuba</th>\n",
              "      <th>native.country_England</th>\n",
              "      <th>native.country_Jamaica</th>\n",
              "      <th>native.country_South</th>\n",
              "      <th>native.country_China</th>\n",
              "      <th>native.country_Italy</th>\n",
              "      <th>native.country_Dominican-Republic</th>\n",
              "      <th>native.country_Vietnam</th>\n",
              "      <th>native.country_Guatemala</th>\n",
              "      <th>native.country_Japan</th>\n",
              "      <th>native.country_Poland</th>\n",
              "      <th>native.country_Columbia</th>\n",
              "    </tr>\n",
              "    <tr>\n",
              "      <th>income</th>\n",
              "      <th></th>\n",
              "      <th></th>\n",
              "      <th></th>\n",
              "      <th></th>\n",
              "      <th></th>\n",
              "      <th></th>\n",
              "      <th></th>\n",
              "      <th></th>\n",
              "      <th></th>\n",
              "      <th></th>\n",
              "      <th></th>\n",
              "      <th></th>\n",
              "      <th></th>\n",
              "      <th></th>\n",
              "      <th></th>\n",
              "      <th></th>\n",
              "      <th></th>\n",
              "      <th></th>\n",
              "      <th></th>\n",
              "      <th></th>\n",
              "      <th></th>\n",
              "      <th></th>\n",
              "      <th></th>\n",
              "      <th></th>\n",
              "      <th></th>\n",
              "      <th></th>\n",
              "      <th></th>\n",
              "      <th></th>\n",
              "      <th></th>\n",
              "      <th></th>\n",
              "      <th></th>\n",
              "      <th></th>\n",
              "      <th></th>\n",
              "      <th></th>\n",
              "      <th></th>\n",
              "      <th></th>\n",
              "      <th></th>\n",
              "      <th></th>\n",
              "      <th></th>\n",
              "      <th></th>\n",
              "      <th></th>\n",
              "      <th></th>\n",
              "      <th></th>\n",
              "      <th></th>\n",
              "      <th></th>\n",
              "      <th></th>\n",
              "      <th></th>\n",
              "      <th></th>\n",
              "      <th></th>\n",
              "      <th></th>\n",
              "      <th></th>\n",
              "      <th></th>\n",
              "      <th></th>\n",
              "      <th></th>\n",
              "      <th></th>\n",
              "      <th></th>\n",
              "      <th></th>\n",
              "      <th></th>\n",
              "      <th></th>\n",
              "      <th></th>\n",
              "      <th></th>\n",
              "      <th></th>\n",
              "      <th></th>\n",
              "      <th></th>\n",
              "    </tr>\n",
              "  </thead>\n",
              "  <tbody>\n",
              "    <tr>\n",
              "      <th>&lt;=50K</th>\n",
              "      <td>24720</td>\n",
              "      <td>24720</td>\n",
              "      <td>24720</td>\n",
              "      <td>24720</td>\n",
              "      <td>24720</td>\n",
              "      <td>24720</td>\n",
              "      <td>24720</td>\n",
              "      <td>24720</td>\n",
              "      <td>24720</td>\n",
              "      <td>24720</td>\n",
              "      <td>24720</td>\n",
              "      <td>24720</td>\n",
              "      <td>24720</td>\n",
              "      <td>24720</td>\n",
              "      <td>24720</td>\n",
              "      <td>24720</td>\n",
              "      <td>24720</td>\n",
              "      <td>24720</td>\n",
              "      <td>24720</td>\n",
              "      <td>24720</td>\n",
              "      <td>24720</td>\n",
              "      <td>24720</td>\n",
              "      <td>24720</td>\n",
              "      <td>24720</td>\n",
              "      <td>24720</td>\n",
              "      <td>24720</td>\n",
              "      <td>24720</td>\n",
              "      <td>24720</td>\n",
              "      <td>24720</td>\n",
              "      <td>24720</td>\n",
              "      <td>24720</td>\n",
              "      <td>24720</td>\n",
              "      <td>24720</td>\n",
              "      <td>24720</td>\n",
              "      <td>24720</td>\n",
              "      <td>24720</td>\n",
              "      <td>24720</td>\n",
              "      <td>24720</td>\n",
              "      <td>24720</td>\n",
              "      <td>24720</td>\n",
              "      <td>24720</td>\n",
              "      <td>24720</td>\n",
              "      <td>24720</td>\n",
              "      <td>24720</td>\n",
              "      <td>24720</td>\n",
              "      <td>24720</td>\n",
              "      <td>24720</td>\n",
              "      <td>24720</td>\n",
              "      <td>24720</td>\n",
              "      <td>24720</td>\n",
              "      <td>24720</td>\n",
              "      <td>24720</td>\n",
              "      <td>24720</td>\n",
              "      <td>24720</td>\n",
              "      <td>24720</td>\n",
              "      <td>24720</td>\n",
              "      <td>24720</td>\n",
              "      <td>24720</td>\n",
              "      <td>24720</td>\n",
              "      <td>24720</td>\n",
              "      <td>24720</td>\n",
              "      <td>24720</td>\n",
              "      <td>24720</td>\n",
              "      <td>24720</td>\n",
              "    </tr>\n",
              "    <tr>\n",
              "      <th>&gt;50K</th>\n",
              "      <td>7841</td>\n",
              "      <td>7841</td>\n",
              "      <td>7841</td>\n",
              "      <td>7841</td>\n",
              "      <td>7841</td>\n",
              "      <td>7841</td>\n",
              "      <td>7841</td>\n",
              "      <td>7841</td>\n",
              "      <td>7841</td>\n",
              "      <td>7841</td>\n",
              "      <td>7841</td>\n",
              "      <td>7841</td>\n",
              "      <td>7841</td>\n",
              "      <td>7841</td>\n",
              "      <td>7841</td>\n",
              "      <td>7841</td>\n",
              "      <td>7841</td>\n",
              "      <td>7841</td>\n",
              "      <td>7841</td>\n",
              "      <td>7841</td>\n",
              "      <td>7841</td>\n",
              "      <td>7841</td>\n",
              "      <td>7841</td>\n",
              "      <td>7841</td>\n",
              "      <td>7841</td>\n",
              "      <td>7841</td>\n",
              "      <td>7841</td>\n",
              "      <td>7841</td>\n",
              "      <td>7841</td>\n",
              "      <td>7841</td>\n",
              "      <td>7841</td>\n",
              "      <td>7841</td>\n",
              "      <td>7841</td>\n",
              "      <td>7841</td>\n",
              "      <td>7841</td>\n",
              "      <td>7841</td>\n",
              "      <td>7841</td>\n",
              "      <td>7841</td>\n",
              "      <td>7841</td>\n",
              "      <td>7841</td>\n",
              "      <td>7841</td>\n",
              "      <td>7841</td>\n",
              "      <td>7841</td>\n",
              "      <td>7841</td>\n",
              "      <td>7841</td>\n",
              "      <td>7841</td>\n",
              "      <td>7841</td>\n",
              "      <td>7841</td>\n",
              "      <td>7841</td>\n",
              "      <td>7841</td>\n",
              "      <td>7841</td>\n",
              "      <td>7841</td>\n",
              "      <td>7841</td>\n",
              "      <td>7841</td>\n",
              "      <td>7841</td>\n",
              "      <td>7841</td>\n",
              "      <td>7841</td>\n",
              "      <td>7841</td>\n",
              "      <td>7841</td>\n",
              "      <td>7841</td>\n",
              "      <td>7841</td>\n",
              "      <td>7841</td>\n",
              "      <td>7841</td>\n",
              "      <td>7841</td>\n",
              "    </tr>\n",
              "  </tbody>\n",
              "</table>\n",
              "</div>"
            ],
            "text/plain": [
              "          age  fnlwgt  education.num  capital.gain  capital.loss  \\\n",
              "income                                                             \n",
              "<=50K   24720   24720          24720         24720         24720   \n",
              ">50K     7841    7841           7841          7841          7841   \n",
              "\n",
              "        hours.per.week  workclass_Private  workclass_Self-emp-not-inc  \\\n",
              "income                                                                  \n",
              "<=50K            24720              24720                       24720   \n",
              ">50K              7841               7841                        7841   \n",
              "\n",
              "        workclass_Local-gov  workclass_Unknown  workclass_State-gov  \\\n",
              "income                                                                \n",
              "<=50K                 24720              24720                24720   \n",
              ">50K                   7841               7841                 7841   \n",
              "\n",
              "        workclass_Self-emp-inc  education_HighSchool  education_College  \\\n",
              "income                                                                    \n",
              "<=50K                    24720                 24720              24720   \n",
              ">50K                      7841                  7841               7841   \n",
              "\n",
              "        education_Bachelor degree  education_Dropout  \\\n",
              "income                                                 \n",
              "<=50K                       24720              24720   \n",
              ">50K                         7841               7841   \n",
              "\n",
              "        education_Masters Degree  marital.status_Married  \\\n",
              "income                                                     \n",
              "<=50K                      24720                   24720   \n",
              ">50K                        7841                    7841   \n",
              "\n",
              "        marital.status_Never-married  marital.status_Separated  \\\n",
              "income                                                           \n",
              "<=50K                          24720                     24720   \n",
              ">50K                            7841                      7841   \n",
              "\n",
              "        occupation_Prof-specialty  occupation_Craft-repair  \\\n",
              "income                                                       \n",
              "<=50K                       24720                    24720   \n",
              ">50K                         7841                     7841   \n",
              "\n",
              "        occupation_Exec-managerial  occupation_Adm-clerical  occupation_Sales  \\\n",
              "income                                                                          \n",
              "<=50K                        24720                    24720             24720   \n",
              ">50K                          7841                     7841              7841   \n",
              "\n",
              "        occupation_Other-service  occupation_Machine-op-inspct  \\\n",
              "income                                                           \n",
              "<=50K                      24720                         24720   \n",
              ">50K                        7841                          7841   \n",
              "\n",
              "        occupation_Unknown  occupation_Transport-moving  \\\n",
              "income                                                    \n",
              "<=50K                24720                        24720   \n",
              ">50K                  7841                         7841   \n",
              "\n",
              "        occupation_Handlers-cleaners  occupation_Farming-fishing  \\\n",
              "income                                                             \n",
              "<=50K                          24720                       24720   \n",
              ">50K                            7841                        7841   \n",
              "\n",
              "        occupation_Tech-support  occupation_Protective-serv  \\\n",
              "income                                                        \n",
              "<=50K                     24720                       24720   \n",
              ">50K                       7841                        7841   \n",
              "\n",
              "        relationship_Husband  relationship_Not-in-family  \\\n",
              "income                                                     \n",
              "<=50K                  24720                       24720   \n",
              ">50K                    7841                        7841   \n",
              "\n",
              "        relationship_Own-child  relationship_Unmarried  relationship_Wife  \\\n",
              "income                                                                      \n",
              "<=50K                    24720                   24720              24720   \n",
              ">50K                      7841                    7841               7841   \n",
              "\n",
              "        race_White  race_Black  race_Asian-Pac-Islander  \\\n",
              "income                                                    \n",
              "<=50K        24720       24720                    24720   \n",
              ">50K          7841        7841                     7841   \n",
              "\n",
              "        race_Amer-Indian-Eskimo  sex_Male  native.country_United-States  \\\n",
              "income                                                                    \n",
              "<=50K                     24720     24720                         24720   \n",
              ">50K                       7841      7841                          7841   \n",
              "\n",
              "        native.country_Mexico  native.country_?  native.country_Philippines  \\\n",
              "income                                                                        \n",
              "<=50K                   24720             24720                       24720   \n",
              ">50K                     7841              7841                        7841   \n",
              "\n",
              "        native.country_Germany  native.country_Canada  \\\n",
              "income                                                  \n",
              "<=50K                    24720                  24720   \n",
              ">50K                      7841                   7841   \n",
              "\n",
              "        native.country_Puerto-Rico  native.country_El-Salvador  \\\n",
              "income                                                           \n",
              "<=50K                        24720                       24720   \n",
              ">50K                          7841                        7841   \n",
              "\n",
              "        native.country_India  native.country_Cuba  native.country_England  \\\n",
              "income                                                                      \n",
              "<=50K                  24720                24720                   24720   \n",
              ">50K                    7841                 7841                    7841   \n",
              "\n",
              "        native.country_Jamaica  native.country_South  native.country_China  \\\n",
              "income                                                                       \n",
              "<=50K                    24720                 24720                 24720   \n",
              ">50K                      7841                  7841                  7841   \n",
              "\n",
              "        native.country_Italy  native.country_Dominican-Republic  \\\n",
              "income                                                            \n",
              "<=50K                  24720                              24720   \n",
              ">50K                    7841                               7841   \n",
              "\n",
              "        native.country_Vietnam  native.country_Guatemala  \\\n",
              "income                                                     \n",
              "<=50K                    24720                     24720   \n",
              ">50K                      7841                      7841   \n",
              "\n",
              "        native.country_Japan  native.country_Poland  native.country_Columbia  \n",
              "income                                                                        \n",
              "<=50K                  24720                  24720                    24720  \n",
              ">50K                    7841                   7841                     7841  "
            ]
          },
          "metadata": {
            "tags": []
          },
          "execution_count": 58
        }
      ]
    },
    {
      "cell_type": "code",
      "metadata": {
        "id": "WdMi8EutZRno",
        "colab_type": "code",
        "colab": {}
      },
      "source": [
        "#Mapping income greater than 50k as 1\n",
        "df_n['income'] = df_n['income'].map({'<=50K' : 0 , '>50K' : 1})"
      ],
      "execution_count": 0,
      "outputs": []
    },
    {
      "cell_type": "code",
      "metadata": {
        "id": "t2vDT2-9ZRnu",
        "colab_type": "code",
        "colab": {}
      },
      "source": [
        "#Splitting the target variable\n",
        "\n",
        "X = df_n.drop(columns='income')\n",
        "y = df_n['income']"
      ],
      "execution_count": 0,
      "outputs": []
    },
    {
      "cell_type": "code",
      "metadata": {
        "id": "DuHtzTFAZRn3",
        "colab_type": "code",
        "colab": {}
      },
      "source": [
        "#Scaling the dataset\n",
        "from sklearn.preprocessing import StandardScaler\n",
        "ss = StandardScaler()\n",
        "X[X.columns] = ss.fit_transform(X[X.columns])"
      ],
      "execution_count": 0,
      "outputs": []
    },
    {
      "cell_type": "markdown",
      "metadata": {
        "id": "9DLviySJZRn9",
        "colab_type": "text"
      },
      "source": [
        "**APPLYING PCA**"
      ]
    },
    {
      "cell_type": "code",
      "metadata": {
        "id": "G_6l_VIJZRn-",
        "colab_type": "code",
        "colab": {}
      },
      "source": [
        "from sklearn.decomposition import PCA\n",
        "pca = PCA()\n",
        "df_pca = pca.fit_transform(X)"
      ],
      "execution_count": 0,
      "outputs": []
    },
    {
      "cell_type": "code",
      "metadata": {
        "id": "NTS7lsYvZRoJ",
        "colab_type": "code",
        "colab": {
          "base_uri": "https://localhost:8080/",
          "height": 114
        },
        "outputId": "4705bc46-68ff-4dcf-bc50-438ed235a50d"
      },
      "source": [
        "#Checking for cumulative explained varience ratio to choose the best n components for PCA\n",
        "\n",
        "pd.DataFrame(np.cumsum(pca.explained_variance_ratio_)*100 , index = range(1, X.shape[1]+1) , columns=['Cum. Var']).T"
      ],
      "execution_count": 63,
      "outputs": [
        {
          "output_type": "execute_result",
          "data": {
            "text/html": [
              "<div>\n",
              "<style scoped>\n",
              "    .dataframe tbody tr th:only-of-type {\n",
              "        vertical-align: middle;\n",
              "    }\n",
              "\n",
              "    .dataframe tbody tr th {\n",
              "        vertical-align: top;\n",
              "    }\n",
              "\n",
              "    .dataframe thead th {\n",
              "        text-align: right;\n",
              "    }\n",
              "</style>\n",
              "<table border=\"1\" class=\"dataframe\">\n",
              "  <thead>\n",
              "    <tr style=\"text-align: right;\">\n",
              "      <th></th>\n",
              "      <th>1</th>\n",
              "      <th>2</th>\n",
              "      <th>3</th>\n",
              "      <th>4</th>\n",
              "      <th>5</th>\n",
              "      <th>6</th>\n",
              "      <th>7</th>\n",
              "      <th>8</th>\n",
              "      <th>9</th>\n",
              "      <th>10</th>\n",
              "      <th>11</th>\n",
              "      <th>12</th>\n",
              "      <th>13</th>\n",
              "      <th>14</th>\n",
              "      <th>15</th>\n",
              "      <th>16</th>\n",
              "      <th>17</th>\n",
              "      <th>18</th>\n",
              "      <th>19</th>\n",
              "      <th>20</th>\n",
              "      <th>21</th>\n",
              "      <th>22</th>\n",
              "      <th>23</th>\n",
              "      <th>24</th>\n",
              "      <th>25</th>\n",
              "      <th>26</th>\n",
              "      <th>27</th>\n",
              "      <th>28</th>\n",
              "      <th>29</th>\n",
              "      <th>30</th>\n",
              "      <th>31</th>\n",
              "      <th>32</th>\n",
              "      <th>33</th>\n",
              "      <th>34</th>\n",
              "      <th>35</th>\n",
              "      <th>36</th>\n",
              "      <th>37</th>\n",
              "      <th>38</th>\n",
              "      <th>39</th>\n",
              "      <th>40</th>\n",
              "      <th>41</th>\n",
              "      <th>42</th>\n",
              "      <th>43</th>\n",
              "      <th>44</th>\n",
              "      <th>45</th>\n",
              "      <th>46</th>\n",
              "      <th>47</th>\n",
              "      <th>48</th>\n",
              "      <th>49</th>\n",
              "      <th>50</th>\n",
              "      <th>51</th>\n",
              "      <th>52</th>\n",
              "      <th>53</th>\n",
              "      <th>54</th>\n",
              "      <th>55</th>\n",
              "      <th>56</th>\n",
              "      <th>57</th>\n",
              "      <th>58</th>\n",
              "      <th>59</th>\n",
              "      <th>60</th>\n",
              "      <th>61</th>\n",
              "      <th>62</th>\n",
              "      <th>63</th>\n",
              "      <th>64</th>\n",
              "    </tr>\n",
              "  </thead>\n",
              "  <tbody>\n",
              "    <tr>\n",
              "      <th>Cum. Var</th>\n",
              "      <td>6.362288</td>\n",
              "      <td>10.77378</td>\n",
              "      <td>14.572205</td>\n",
              "      <td>18.307654</td>\n",
              "      <td>21.685896</td>\n",
              "      <td>24.474157</td>\n",
              "      <td>27.003232</td>\n",
              "      <td>29.421801</td>\n",
              "      <td>31.733336</td>\n",
              "      <td>33.964695</td>\n",
              "      <td>36.076275</td>\n",
              "      <td>38.083061</td>\n",
              "      <td>40.003464</td>\n",
              "      <td>41.894207</td>\n",
              "      <td>43.690917</td>\n",
              "      <td>45.472975</td>\n",
              "      <td>47.240379</td>\n",
              "      <td>48.953615</td>\n",
              "      <td>50.650946</td>\n",
              "      <td>52.330016</td>\n",
              "      <td>53.98414</td>\n",
              "      <td>55.609103</td>\n",
              "      <td>57.225254</td>\n",
              "      <td>58.828528</td>\n",
              "      <td>60.424014</td>\n",
              "      <td>62.000101</td>\n",
              "      <td>63.573477</td>\n",
              "      <td>65.14304</td>\n",
              "      <td>66.711531</td>\n",
              "      <td>68.278132</td>\n",
              "      <td>69.84415</td>\n",
              "      <td>71.405009</td>\n",
              "      <td>72.964468</td>\n",
              "      <td>74.522586</td>\n",
              "      <td>76.078155</td>\n",
              "      <td>77.625748</td>\n",
              "      <td>79.163689</td>\n",
              "      <td>80.698284</td>\n",
              "      <td>82.219773</td>\n",
              "      <td>83.73005</td>\n",
              "      <td>85.228523</td>\n",
              "      <td>86.694654</td>\n",
              "      <td>88.099408</td>\n",
              "      <td>89.488425</td>\n",
              "      <td>90.837367</td>\n",
              "      <td>92.153584</td>\n",
              "      <td>93.366655</td>\n",
              "      <td>94.506084</td>\n",
              "      <td>95.576276</td>\n",
              "      <td>96.624482</td>\n",
              "      <td>97.488345</td>\n",
              "      <td>98.260768</td>\n",
              "      <td>98.849893</td>\n",
              "      <td>99.383522</td>\n",
              "      <td>99.516893</td>\n",
              "      <td>99.642678</td>\n",
              "      <td>99.747345</td>\n",
              "      <td>99.846077</td>\n",
              "      <td>99.909179</td>\n",
              "      <td>99.957425</td>\n",
              "      <td>99.976589</td>\n",
              "      <td>99.988415</td>\n",
              "      <td>99.996918</td>\n",
              "      <td>100.0</td>\n",
              "    </tr>\n",
              "  </tbody>\n",
              "</table>\n",
              "</div>"
            ],
            "text/plain": [
              "                 1         2          3          4          5          6  \\\n",
              "Cum. Var  6.362288  10.77378  14.572205  18.307654  21.685896  24.474157   \n",
              "\n",
              "                  7          8          9         10         11         12  \\\n",
              "Cum. Var  27.003232  29.421801  31.733336  33.964695  36.076275  38.083061   \n",
              "\n",
              "                 13         14         15         16         17         18  \\\n",
              "Cum. Var  40.003464  41.894207  43.690917  45.472975  47.240379  48.953615   \n",
              "\n",
              "                 19         20        21         22         23         24  \\\n",
              "Cum. Var  50.650946  52.330016  53.98414  55.609103  57.225254  58.828528   \n",
              "\n",
              "                 25         26         27        28         29         30  \\\n",
              "Cum. Var  60.424014  62.000101  63.573477  65.14304  66.711531  68.278132   \n",
              "\n",
              "                31         32         33         34         35         36  \\\n",
              "Cum. Var  69.84415  71.405009  72.964468  74.522586  76.078155  77.625748   \n",
              "\n",
              "                 37         38         39        40         41         42  \\\n",
              "Cum. Var  79.163689  80.698284  82.219773  83.73005  85.228523  86.694654   \n",
              "\n",
              "                 43         44         45         46         47         48  \\\n",
              "Cum. Var  88.099408  89.488425  90.837367  92.153584  93.366655  94.506084   \n",
              "\n",
              "                 49         50         51         52         53         54  \\\n",
              "Cum. Var  95.576276  96.624482  97.488345  98.260768  98.849893  99.383522   \n",
              "\n",
              "                 55         56         57         58         59         60  \\\n",
              "Cum. Var  99.516893  99.642678  99.747345  99.846077  99.909179  99.957425   \n",
              "\n",
              "                 61         62         63     64  \n",
              "Cum. Var  99.976589  99.988415  99.996918  100.0  "
            ]
          },
          "metadata": {
            "tags": []
          },
          "execution_count": 63
        }
      ]
    },
    {
      "cell_type": "code",
      "metadata": {
        "id": "ZdJy-po4ZRoQ",
        "colab_type": "code",
        "colab": {}
      },
      "source": [
        "#We will choose 54 PC dimensions since 99% varience is explained in 54 pc dimensions\n",
        "pca = PCA(n_components=54)\n",
        "df_pca1 = pca.fit_transform(X)\n",
        "df_pca1 = pd.DataFrame(df_pca1 , columns=['PC '+str(i) for i in range(1,55)])"
      ],
      "execution_count": 0,
      "outputs": []
    },
    {
      "cell_type": "code",
      "metadata": {
        "id": "UoZ1JkhkZRob",
        "colab_type": "code",
        "colab": {
          "base_uri": "https://localhost:8080/",
          "height": 233
        },
        "outputId": "45b43d84-d88c-4218-d1a0-5044cc504df3"
      },
      "source": [
        "display(df_pca1.head())\n",
        "display(df_pca1.shape)"
      ],
      "execution_count": 65,
      "outputs": [
        {
          "output_type": "display_data",
          "data": {
            "text/html": [
              "<div>\n",
              "<style scoped>\n",
              "    .dataframe tbody tr th:only-of-type {\n",
              "        vertical-align: middle;\n",
              "    }\n",
              "\n",
              "    .dataframe tbody tr th {\n",
              "        vertical-align: top;\n",
              "    }\n",
              "\n",
              "    .dataframe thead th {\n",
              "        text-align: right;\n",
              "    }\n",
              "</style>\n",
              "<table border=\"1\" class=\"dataframe\">\n",
              "  <thead>\n",
              "    <tr style=\"text-align: right;\">\n",
              "      <th></th>\n",
              "      <th>PC 1</th>\n",
              "      <th>PC 2</th>\n",
              "      <th>PC 3</th>\n",
              "      <th>PC 4</th>\n",
              "      <th>PC 5</th>\n",
              "      <th>PC 6</th>\n",
              "      <th>PC 7</th>\n",
              "      <th>PC 8</th>\n",
              "      <th>PC 9</th>\n",
              "      <th>PC 10</th>\n",
              "      <th>PC 11</th>\n",
              "      <th>PC 12</th>\n",
              "      <th>PC 13</th>\n",
              "      <th>PC 14</th>\n",
              "      <th>PC 15</th>\n",
              "      <th>PC 16</th>\n",
              "      <th>PC 17</th>\n",
              "      <th>PC 18</th>\n",
              "      <th>PC 19</th>\n",
              "      <th>PC 20</th>\n",
              "      <th>PC 21</th>\n",
              "      <th>PC 22</th>\n",
              "      <th>PC 23</th>\n",
              "      <th>PC 24</th>\n",
              "      <th>PC 25</th>\n",
              "      <th>PC 26</th>\n",
              "      <th>PC 27</th>\n",
              "      <th>PC 28</th>\n",
              "      <th>PC 29</th>\n",
              "      <th>PC 30</th>\n",
              "      <th>PC 31</th>\n",
              "      <th>PC 32</th>\n",
              "      <th>PC 33</th>\n",
              "      <th>PC 34</th>\n",
              "      <th>PC 35</th>\n",
              "      <th>PC 36</th>\n",
              "      <th>PC 37</th>\n",
              "      <th>PC 38</th>\n",
              "      <th>PC 39</th>\n",
              "      <th>PC 40</th>\n",
              "      <th>PC 41</th>\n",
              "      <th>PC 42</th>\n",
              "      <th>PC 43</th>\n",
              "      <th>PC 44</th>\n",
              "      <th>PC 45</th>\n",
              "      <th>PC 46</th>\n",
              "      <th>PC 47</th>\n",
              "      <th>PC 48</th>\n",
              "      <th>PC 49</th>\n",
              "      <th>PC 50</th>\n",
              "      <th>PC 51</th>\n",
              "      <th>PC 52</th>\n",
              "      <th>PC 53</th>\n",
              "      <th>PC 54</th>\n",
              "    </tr>\n",
              "  </thead>\n",
              "  <tbody>\n",
              "    <tr>\n",
              "      <th>0</th>\n",
              "      <td>0.150875</td>\n",
              "      <td>-0.696495</td>\n",
              "      <td>0.828032</td>\n",
              "      <td>5.857050</td>\n",
              "      <td>-1.643344</td>\n",
              "      <td>1.225380</td>\n",
              "      <td>-1.068223</td>\n",
              "      <td>2.569292</td>\n",
              "      <td>-1.812526</td>\n",
              "      <td>0.775139</td>\n",
              "      <td>-0.444030</td>\n",
              "      <td>-0.131615</td>\n",
              "      <td>-0.535268</td>\n",
              "      <td>-1.359377</td>\n",
              "      <td>1.259947</td>\n",
              "      <td>0.447922</td>\n",
              "      <td>1.139161</td>\n",
              "      <td>-0.003894</td>\n",
              "      <td>0.065431</td>\n",
              "      <td>-0.486822</td>\n",
              "      <td>-0.928786</td>\n",
              "      <td>-1.528127</td>\n",
              "      <td>6.449430</td>\n",
              "      <td>2.685439</td>\n",
              "      <td>-0.769273</td>\n",
              "      <td>-1.172825</td>\n",
              "      <td>-0.816673</td>\n",
              "      <td>-0.169967</td>\n",
              "      <td>-1.296998</td>\n",
              "      <td>-1.225394</td>\n",
              "      <td>0.053214</td>\n",
              "      <td>-0.618210</td>\n",
              "      <td>-0.785236</td>\n",
              "      <td>1.019713</td>\n",
              "      <td>2.732602</td>\n",
              "      <td>-1.175666</td>\n",
              "      <td>0.270029</td>\n",
              "      <td>1.094729</td>\n",
              "      <td>-1.761986</td>\n",
              "      <td>2.039161</td>\n",
              "      <td>0.422653</td>\n",
              "      <td>-0.230313</td>\n",
              "      <td>4.391478</td>\n",
              "      <td>1.704406</td>\n",
              "      <td>2.110318</td>\n",
              "      <td>2.343683</td>\n",
              "      <td>-0.806475</td>\n",
              "      <td>0.800402</td>\n",
              "      <td>-0.282344</td>\n",
              "      <td>-0.793454</td>\n",
              "      <td>-0.919895</td>\n",
              "      <td>2.242377</td>\n",
              "      <td>0.630743</td>\n",
              "      <td>-0.058855</td>\n",
              "    </tr>\n",
              "    <tr>\n",
              "      <th>1</th>\n",
              "      <td>0.345351</td>\n",
              "      <td>-0.858413</td>\n",
              "      <td>-0.473841</td>\n",
              "      <td>-0.013349</td>\n",
              "      <td>-1.926627</td>\n",
              "      <td>0.873921</td>\n",
              "      <td>-1.032022</td>\n",
              "      <td>1.302639</td>\n",
              "      <td>-1.175718</td>\n",
              "      <td>0.800823</td>\n",
              "      <td>0.640864</td>\n",
              "      <td>-0.057278</td>\n",
              "      <td>-1.453226</td>\n",
              "      <td>-1.027019</td>\n",
              "      <td>2.322639</td>\n",
              "      <td>0.433469</td>\n",
              "      <td>-0.158598</td>\n",
              "      <td>-0.214781</td>\n",
              "      <td>-0.131951</td>\n",
              "      <td>-0.267980</td>\n",
              "      <td>-1.020902</td>\n",
              "      <td>-1.376739</td>\n",
              "      <td>6.946206</td>\n",
              "      <td>2.853357</td>\n",
              "      <td>-0.377607</td>\n",
              "      <td>-1.038699</td>\n",
              "      <td>-0.672060</td>\n",
              "      <td>-0.252809</td>\n",
              "      <td>-1.343576</td>\n",
              "      <td>-1.104762</td>\n",
              "      <td>0.247577</td>\n",
              "      <td>-0.588736</td>\n",
              "      <td>-0.865735</td>\n",
              "      <td>1.050789</td>\n",
              "      <td>2.772812</td>\n",
              "      <td>-1.278497</td>\n",
              "      <td>0.045682</td>\n",
              "      <td>1.087375</td>\n",
              "      <td>-1.525003</td>\n",
              "      <td>1.729113</td>\n",
              "      <td>-0.211141</td>\n",
              "      <td>-0.262565</td>\n",
              "      <td>4.255478</td>\n",
              "      <td>2.694265</td>\n",
              "      <td>0.322956</td>\n",
              "      <td>1.968259</td>\n",
              "      <td>-0.135520</td>\n",
              "      <td>2.752557</td>\n",
              "      <td>-0.281240</td>\n",
              "      <td>-1.403378</td>\n",
              "      <td>-1.521417</td>\n",
              "      <td>1.170169</td>\n",
              "      <td>0.498339</td>\n",
              "      <td>-0.031615</td>\n",
              "    </tr>\n",
              "    <tr>\n",
              "      <th>2</th>\n",
              "      <td>-1.143863</td>\n",
              "      <td>-1.109209</td>\n",
              "      <td>3.056199</td>\n",
              "      <td>5.498713</td>\n",
              "      <td>-2.037662</td>\n",
              "      <td>-2.153535</td>\n",
              "      <td>-0.898955</td>\n",
              "      <td>0.513274</td>\n",
              "      <td>-1.281057</td>\n",
              "      <td>-2.566454</td>\n",
              "      <td>0.351458</td>\n",
              "      <td>0.599561</td>\n",
              "      <td>0.829470</td>\n",
              "      <td>-0.420039</td>\n",
              "      <td>-0.453356</td>\n",
              "      <td>0.527949</td>\n",
              "      <td>0.225970</td>\n",
              "      <td>0.140131</td>\n",
              "      <td>-0.041636</td>\n",
              "      <td>-0.270927</td>\n",
              "      <td>-1.336955</td>\n",
              "      <td>-2.337012</td>\n",
              "      <td>6.773033</td>\n",
              "      <td>2.522124</td>\n",
              "      <td>-0.843363</td>\n",
              "      <td>-1.199593</td>\n",
              "      <td>-0.651073</td>\n",
              "      <td>-0.141542</td>\n",
              "      <td>-1.010170</td>\n",
              "      <td>-1.212834</td>\n",
              "      <td>0.138161</td>\n",
              "      <td>-0.704825</td>\n",
              "      <td>-0.409961</td>\n",
              "      <td>0.974061</td>\n",
              "      <td>2.449446</td>\n",
              "      <td>-0.923640</td>\n",
              "      <td>0.594329</td>\n",
              "      <td>1.376730</td>\n",
              "      <td>-1.500145</td>\n",
              "      <td>2.461589</td>\n",
              "      <td>-0.469668</td>\n",
              "      <td>-0.282378</td>\n",
              "      <td>3.737930</td>\n",
              "      <td>1.579615</td>\n",
              "      <td>3.022740</td>\n",
              "      <td>2.284309</td>\n",
              "      <td>-1.415430</td>\n",
              "      <td>0.542450</td>\n",
              "      <td>0.026570</td>\n",
              "      <td>-1.763612</td>\n",
              "      <td>-0.136111</td>\n",
              "      <td>1.314710</td>\n",
              "      <td>0.225980</td>\n",
              "      <td>0.068588</td>\n",
              "    </tr>\n",
              "    <tr>\n",
              "      <th>3</th>\n",
              "      <td>-1.215209</td>\n",
              "      <td>1.548517</td>\n",
              "      <td>0.304832</td>\n",
              "      <td>-0.308312</td>\n",
              "      <td>-3.473168</td>\n",
              "      <td>1.667399</td>\n",
              "      <td>-0.864988</td>\n",
              "      <td>-0.616338</td>\n",
              "      <td>-0.844204</td>\n",
              "      <td>-0.238983</td>\n",
              "      <td>0.373282</td>\n",
              "      <td>2.601821</td>\n",
              "      <td>-1.068205</td>\n",
              "      <td>0.768264</td>\n",
              "      <td>-0.633047</td>\n",
              "      <td>-0.530059</td>\n",
              "      <td>0.631593</td>\n",
              "      <td>0.878650</td>\n",
              "      <td>0.739147</td>\n",
              "      <td>1.776290</td>\n",
              "      <td>-0.887368</td>\n",
              "      <td>-2.747977</td>\n",
              "      <td>6.025402</td>\n",
              "      <td>2.536108</td>\n",
              "      <td>-0.775340</td>\n",
              "      <td>-0.950127</td>\n",
              "      <td>-0.498977</td>\n",
              "      <td>-0.040575</td>\n",
              "      <td>-0.970031</td>\n",
              "      <td>-1.043545</td>\n",
              "      <td>0.306648</td>\n",
              "      <td>-0.661194</td>\n",
              "      <td>-0.410441</td>\n",
              "      <td>0.813037</td>\n",
              "      <td>2.112097</td>\n",
              "      <td>-1.062792</td>\n",
              "      <td>0.599801</td>\n",
              "      <td>1.828962</td>\n",
              "      <td>-1.813282</td>\n",
              "      <td>1.555515</td>\n",
              "      <td>0.498799</td>\n",
              "      <td>-1.939346</td>\n",
              "      <td>2.148994</td>\n",
              "      <td>3.159826</td>\n",
              "      <td>1.844318</td>\n",
              "      <td>3.065018</td>\n",
              "      <td>0.165059</td>\n",
              "      <td>-0.173650</td>\n",
              "      <td>-0.174314</td>\n",
              "      <td>-1.109899</td>\n",
              "      <td>0.345976</td>\n",
              "      <td>0.385808</td>\n",
              "      <td>0.299314</td>\n",
              "      <td>-0.139774</td>\n",
              "    </tr>\n",
              "    <tr>\n",
              "      <th>4</th>\n",
              "      <td>-0.833222</td>\n",
              "      <td>-1.854056</td>\n",
              "      <td>-0.670926</td>\n",
              "      <td>-0.263229</td>\n",
              "      <td>-0.185831</td>\n",
              "      <td>0.378633</td>\n",
              "      <td>-0.706170</td>\n",
              "      <td>-0.839214</td>\n",
              "      <td>0.244651</td>\n",
              "      <td>-0.426044</td>\n",
              "      <td>-0.532481</td>\n",
              "      <td>1.536303</td>\n",
              "      <td>0.827389</td>\n",
              "      <td>0.109843</td>\n",
              "      <td>-0.334945</td>\n",
              "      <td>0.510347</td>\n",
              "      <td>0.478748</td>\n",
              "      <td>0.030750</td>\n",
              "      <td>-0.104607</td>\n",
              "      <td>-0.298879</td>\n",
              "      <td>-1.142002</td>\n",
              "      <td>-2.144164</td>\n",
              "      <td>6.248960</td>\n",
              "      <td>2.045119</td>\n",
              "      <td>-0.534695</td>\n",
              "      <td>-0.812416</td>\n",
              "      <td>-0.704322</td>\n",
              "      <td>-0.101489</td>\n",
              "      <td>-0.838302</td>\n",
              "      <td>-1.158901</td>\n",
              "      <td>0.228759</td>\n",
              "      <td>-0.404586</td>\n",
              "      <td>-0.241017</td>\n",
              "      <td>0.913957</td>\n",
              "      <td>1.875310</td>\n",
              "      <td>-0.572920</td>\n",
              "      <td>0.260096</td>\n",
              "      <td>1.047830</td>\n",
              "      <td>-1.455396</td>\n",
              "      <td>2.318184</td>\n",
              "      <td>-0.075436</td>\n",
              "      <td>-0.185823</td>\n",
              "      <td>2.498938</td>\n",
              "      <td>1.988086</td>\n",
              "      <td>2.364080</td>\n",
              "      <td>3.477403</td>\n",
              "      <td>1.380182</td>\n",
              "      <td>1.255706</td>\n",
              "      <td>-0.387762</td>\n",
              "      <td>1.588717</td>\n",
              "      <td>-2.364117</td>\n",
              "      <td>0.345314</td>\n",
              "      <td>0.661336</td>\n",
              "      <td>-0.039155</td>\n",
              "    </tr>\n",
              "  </tbody>\n",
              "</table>\n",
              "</div>"
            ],
            "text/plain": [
              "       PC 1      PC 2      PC 3      PC 4      PC 5      PC 6      PC 7  \\\n",
              "0  0.150875 -0.696495  0.828032  5.857050 -1.643344  1.225380 -1.068223   \n",
              "1  0.345351 -0.858413 -0.473841 -0.013349 -1.926627  0.873921 -1.032022   \n",
              "2 -1.143863 -1.109209  3.056199  5.498713 -2.037662 -2.153535 -0.898955   \n",
              "3 -1.215209  1.548517  0.304832 -0.308312 -3.473168  1.667399 -0.864988   \n",
              "4 -0.833222 -1.854056 -0.670926 -0.263229 -0.185831  0.378633 -0.706170   \n",
              "\n",
              "       PC 8      PC 9     PC 10     PC 11     PC 12     PC 13     PC 14  \\\n",
              "0  2.569292 -1.812526  0.775139 -0.444030 -0.131615 -0.535268 -1.359377   \n",
              "1  1.302639 -1.175718  0.800823  0.640864 -0.057278 -1.453226 -1.027019   \n",
              "2  0.513274 -1.281057 -2.566454  0.351458  0.599561  0.829470 -0.420039   \n",
              "3 -0.616338 -0.844204 -0.238983  0.373282  2.601821 -1.068205  0.768264   \n",
              "4 -0.839214  0.244651 -0.426044 -0.532481  1.536303  0.827389  0.109843   \n",
              "\n",
              "      PC 15     PC 16     PC 17     PC 18     PC 19     PC 20     PC 21  \\\n",
              "0  1.259947  0.447922  1.139161 -0.003894  0.065431 -0.486822 -0.928786   \n",
              "1  2.322639  0.433469 -0.158598 -0.214781 -0.131951 -0.267980 -1.020902   \n",
              "2 -0.453356  0.527949  0.225970  0.140131 -0.041636 -0.270927 -1.336955   \n",
              "3 -0.633047 -0.530059  0.631593  0.878650  0.739147  1.776290 -0.887368   \n",
              "4 -0.334945  0.510347  0.478748  0.030750 -0.104607 -0.298879 -1.142002   \n",
              "\n",
              "      PC 22     PC 23     PC 24     PC 25     PC 26     PC 27     PC 28  \\\n",
              "0 -1.528127  6.449430  2.685439 -0.769273 -1.172825 -0.816673 -0.169967   \n",
              "1 -1.376739  6.946206  2.853357 -0.377607 -1.038699 -0.672060 -0.252809   \n",
              "2 -2.337012  6.773033  2.522124 -0.843363 -1.199593 -0.651073 -0.141542   \n",
              "3 -2.747977  6.025402  2.536108 -0.775340 -0.950127 -0.498977 -0.040575   \n",
              "4 -2.144164  6.248960  2.045119 -0.534695 -0.812416 -0.704322 -0.101489   \n",
              "\n",
              "      PC 29     PC 30     PC 31     PC 32     PC 33     PC 34     PC 35  \\\n",
              "0 -1.296998 -1.225394  0.053214 -0.618210 -0.785236  1.019713  2.732602   \n",
              "1 -1.343576 -1.104762  0.247577 -0.588736 -0.865735  1.050789  2.772812   \n",
              "2 -1.010170 -1.212834  0.138161 -0.704825 -0.409961  0.974061  2.449446   \n",
              "3 -0.970031 -1.043545  0.306648 -0.661194 -0.410441  0.813037  2.112097   \n",
              "4 -0.838302 -1.158901  0.228759 -0.404586 -0.241017  0.913957  1.875310   \n",
              "\n",
              "      PC 36     PC 37     PC 38     PC 39     PC 40     PC 41     PC 42  \\\n",
              "0 -1.175666  0.270029  1.094729 -1.761986  2.039161  0.422653 -0.230313   \n",
              "1 -1.278497  0.045682  1.087375 -1.525003  1.729113 -0.211141 -0.262565   \n",
              "2 -0.923640  0.594329  1.376730 -1.500145  2.461589 -0.469668 -0.282378   \n",
              "3 -1.062792  0.599801  1.828962 -1.813282  1.555515  0.498799 -1.939346   \n",
              "4 -0.572920  0.260096  1.047830 -1.455396  2.318184 -0.075436 -0.185823   \n",
              "\n",
              "      PC 43     PC 44     PC 45     PC 46     PC 47     PC 48     PC 49  \\\n",
              "0  4.391478  1.704406  2.110318  2.343683 -0.806475  0.800402 -0.282344   \n",
              "1  4.255478  2.694265  0.322956  1.968259 -0.135520  2.752557 -0.281240   \n",
              "2  3.737930  1.579615  3.022740  2.284309 -1.415430  0.542450  0.026570   \n",
              "3  2.148994  3.159826  1.844318  3.065018  0.165059 -0.173650 -0.174314   \n",
              "4  2.498938  1.988086  2.364080  3.477403  1.380182  1.255706 -0.387762   \n",
              "\n",
              "      PC 50     PC 51     PC 52     PC 53     PC 54  \n",
              "0 -0.793454 -0.919895  2.242377  0.630743 -0.058855  \n",
              "1 -1.403378 -1.521417  1.170169  0.498339 -0.031615  \n",
              "2 -1.763612 -0.136111  1.314710  0.225980  0.068588  \n",
              "3 -1.109899  0.345976  0.385808  0.299314 -0.139774  \n",
              "4  1.588717 -2.364117  0.345314  0.661336 -0.039155  "
            ]
          },
          "metadata": {
            "tags": []
          }
        },
        {
          "output_type": "display_data",
          "data": {
            "text/plain": [
              "(32561, 54)"
            ]
          },
          "metadata": {
            "tags": []
          }
        }
      ]
    },
    {
      "cell_type": "markdown",
      "metadata": {
        "id": "ozJdwYwmZRoi",
        "colab_type": "text"
      },
      "source": [
        "**TEST TRAIN SPLIT**"
      ]
    },
    {
      "cell_type": "code",
      "metadata": {
        "id": "WPDF2ihvZRok",
        "colab_type": "code",
        "colab": {
          "base_uri": "https://localhost:8080/",
          "height": 84
        },
        "outputId": "e1296de5-cb5d-436b-e51a-a709eda0170c"
      },
      "source": [
        "from sklearn.model_selection import train_test_split\n",
        "X_train, X_test, y_train, y_test = train_test_split(df_pca1, y, test_size=0.3, random_state=3 )\n",
        "print('X_train shape',X_train.shape)\n",
        "print('y_train shape',y_train.shape)\n",
        "print('X_test  shape',X_test.shape)\n",
        "print('y_test  shape',y_test.shape)"
      ],
      "execution_count": 66,
      "outputs": [
        {
          "output_type": "stream",
          "text": [
            "X_train shape (22792, 54)\n",
            "y_train shape (22792,)\n",
            "X_test  shape (9769, 54)\n",
            "y_test  shape (9769,)\n"
          ],
          "name": "stdout"
        }
      ]
    },
    {
      "cell_type": "markdown",
      "metadata": {
        "id": "yQKH-OfYZRot",
        "colab_type": "text"
      },
      "source": [
        "**HYPERPARAMETER TUNING (Finding the best paramters using RandomizedSearchCV for Random Forest) :**"
      ]
    },
    {
      "cell_type": "code",
      "metadata": {
        "id": "NDLqperQZRow",
        "colab_type": "code",
        "colab": {}
      },
      "source": [
        "from sklearn.ensemble import RandomForestClassifier\n",
        "from sklearn.model_selection import RandomizedSearchCV\n",
        "from scipy.stats import randint as sp_randint\n",
        "\n",
        "rfc = RandomForestClassifier(random_state=3)\n",
        "params = { 'n_estimators' : sp_randint(50 , 200) , \n",
        "           'max_features' : sp_randint(1 , 54) ,\n",
        "           'max_depth' : sp_randint(2,15) , \n",
        "           'min_samples_split' : sp_randint(2,30) ,\n",
        "           'min_samples_leaf' : sp_randint(1,30) ,\n",
        "           'criterion' : ['gini' , 'entropy']\n",
        "    \n",
        "}\n",
        "\n",
        "rsearch_rfc = RandomizedSearchCV(rfc , param_distributions= params , n_iter= 200 , cv = 3 , scoring='roc_auc' , random_state= 3 , return_train_score=True , n_jobs=-1)\n",
        "\n",
        "rsearch_rfc.fit(X_train,y_train)"
      ],
      "execution_count": 0,
      "outputs": []
    },
    {
      "cell_type": "code",
      "metadata": {
        "id": "5MFBFCDNZRo2",
        "colab_type": "code",
        "colab": {}
      },
      "source": [
        "#The best parameters are,\n",
        "rsearch_rfc.best_params_"
      ],
      "execution_count": 0,
      "outputs": []
    },
    {
      "cell_type": "code",
      "metadata": {
        "id": "slCxwwY_ZRo9",
        "colab_type": "code",
        "colab": {}
      },
      "source": [
        "from sklearn.neighbors import KNeighborsClassifier\n",
        "from sklearn.model_selection import RandomizedSearchCV , GridSearchCV\n",
        "from scipy.stats import randint as sp_randint\n",
        "\n",
        "knn = KNeighborsClassifier()\n",
        "\n",
        "params = {\n",
        "    'n_neighbors' : sp_randint(1 , 20) ,\n",
        "    'p' : sp_randint(1 , 5) ,\n",
        "}\n",
        "\n",
        "rsearch_knn = RandomizedSearchCV(knn , param_distributions = params , cv = 3 , random_state= 3  , n_jobs = -1 , return_train_score=True)\n",
        "\n",
        "rsearch_knn.fit(X_train , y_train)"
      ],
      "execution_count": 0,
      "outputs": []
    },
    {
      "cell_type": "code",
      "metadata": {
        "id": "1_8hQe-IZRpF",
        "colab_type": "code",
        "colab": {}
      },
      "source": [
        "#The best parameters are,\n",
        "rsearch_knn.best_params_"
      ],
      "execution_count": 0,
      "outputs": []
    },
    {
      "cell_type": "markdown",
      "metadata": {
        "id": "Q89qH7NPZRpN",
        "colab_type": "text"
      },
      "source": [
        "**HYPERPARAMETER TUNING (Finding the best paramters using RandomizedSearchCV for Decision Tree Classifier) :**"
      ]
    },
    {
      "cell_type": "code",
      "metadata": {
        "id": "5CEDak3MZRpS",
        "colab_type": "code",
        "colab": {}
      },
      "source": [
        "from sklearn.tree import DecisionTreeClassifier\n",
        "\n",
        "dtc = DecisionTreeClassifier(random_state=3)\n",
        "params = { 'max_features' : sp_randint(1 , 54) ,\n",
        "           'max_depth' : sp_randint(2,15) , \n",
        "           'min_samples_leaf' : sp_randint(1,30) ,\n",
        "           'criterion' : ['gini' , 'entropy']\n",
        "    \n",
        "}\n",
        "\n",
        "rsearch_dtc = RandomizedSearchCV(rfc , param_distributions= params , n_iter= 200 , cv = 3 , scoring='roc_auc' , random_state= 3 , return_train_score=True , n_jobs=-1)\n",
        "\n",
        "rsearch_dtc.fit(X_train,y_train)"
      ],
      "execution_count": 0,
      "outputs": []
    },
    {
      "cell_type": "code",
      "metadata": {
        "id": "nWVY-PimZRpX",
        "colab_type": "code",
        "colab": {}
      },
      "source": [
        "#The best parameters are,\n",
        "rsearch_dtc.best_params"
      ],
      "execution_count": 0,
      "outputs": []
    },
    {
      "cell_type": "code",
      "metadata": {
        "id": "vIp63biaZRpc",
        "colab_type": "code",
        "colab": {}
      },
      "source": [
        "#Calling remaining classification algorithms\n",
        "from sklearn.linear_model import LogisticRegression\n",
        "lr=LogisticRegression(fit_intercept=True , solver='liblinear' , random_state=3)\n",
        "\n",
        "from sklearn.tree import DecisionTreeClassifier\n",
        "dt= DecisionTreeClassifier(**rsearch_dtc.best_params , random_state=3)\n",
        "\n",
        "from sklearn.ensemble import RandomForestClassifier\n",
        "rfc = RandomForestClassifier(**rsearch_rfc.best_params_ , random_state=3)\n",
        "\n",
        "from sklearn.naive_bayes import GaussianNB\n",
        "gb = GaussianNB(random_state=3)\n",
        "\n",
        "from sklearn.neighbors import KNeighborsClassifier\n",
        "knn = KNeighborsClassifier(rsearch_knn.best_params_ , random_state=3)\n",
        "\n",
        "from sklearn.ensemble import AdaBoostClassifier\n",
        "ada = AdaBoostClassifier(random_state=3)\n",
        "\n",
        "import lightgbm as lgb\n",
        "lgbm = lgb.LGBMClassifier(random_state=3)"
      ],
      "execution_count": 0,
      "outputs": []
    },
    {
      "cell_type": "code",
      "metadata": {
        "id": "DfAoHqedZRph",
        "colab_type": "code",
        "colab": {}
      },
      "source": [
        "#Executing various classification algorithms , Test train overall accuracy score , Test train AUC score and ROC AUC curve\n",
        "\n",
        "from sklearn.metrics import confusion_matrix, classification_report , accuracy_score , roc_auc_score ,roc_curve\n",
        "\n",
        "algo_arr = [lr ,dt, rfc , gb ,knn , ada ,lgbm]\n",
        "\n",
        "l={0:'LogisticRegression' ,1:'Decision Tree', 2:'Random Forest' , 3:'Gaussian NB' ,4:'KNN' , 5:'AdaBoost' , 6:'Lightbgm'}\n",
        "metric=[]\n",
        "    \n",
        "for i in range(len(algo_arr)):\n",
        "    algo_arr[i].fit(X_train , y_train)\n",
        "\n",
        "    y_train_pred=algo_arr[i].predict(X_train)\n",
        "    y_train_prob=algo_arr[i].predict_proba(X_train)[:,1]\n",
        "\n",
        "    print('\\t','\\t','\\t','\\t','\\t','\\t','\\t',l[i])\n",
        "    print('Confusion Matrix - Train' , '\\n' , confusion_matrix(y_train,y_train_pred))\n",
        "\n",
        "    print('Overall Accuracy - Train ', accuracy_score(y_train,y_train_pred))\n",
        "    metric.append(accuracy_score(y_train,y_train_pred))\n",
        "\n",
        "    print('AUC - Train: ', roc_auc_score(y_train,y_train_prob))\n",
        "    metric.append(roc_auc_score(y_train,y_train_prob))\n",
        "\n",
        "    print('\\n')\n",
        "\n",
        "    y_test_pred = algo_arr[i].predict(X_test)\n",
        "    y_test_prob=algo_arr[i].predict_proba(X_test)[:,1]\n",
        "\n",
        "    print('Confusion Matrix - Test ', '\\n' , confusion_matrix(y_test,y_test_pred))\n",
        "\n",
        "    print('Overall Accuracy - Test ', accuracy_score(y_test,y_test_pred))\n",
        "    metric.append(accuracy_score(y_test,y_test_pred))\n",
        "\n",
        "    print('AUC - Test: ', roc_auc_score(y_test,y_test_prob))\n",
        "    metric.append(roc_auc_score(y_test,y_test_prob))\n",
        "    \n",
        "    #ROC AUC Curve\n",
        "    fpr , tpr , threshold = roc_curve(y_test , y_test_prob)\n",
        "    plt.plot(fpr , tpr)\n",
        "    plt.plot(fpr , fpr , 'r-')\n",
        "    plt.xlabel('FPR')\n",
        "    plt.ylabel('TPR')\n",
        "    plt.show()"
      ],
      "execution_count": 0,
      "outputs": []
    },
    {
      "cell_type": "code",
      "metadata": {
        "id": "FL6AfPrXZRpp",
        "colab_type": "code",
        "colab": {}
      },
      "source": [
        "#Creating accuracies as dataframe for easy interpretation\n",
        "al=['LogisticRegression','Decision Tree','Random Forest', 'Gaussian NB','KNN','AdaBoost','Lightbgm']\n",
        "\n",
        "col=['Train_Accuracy_score', 'Test_Accuracy_score','Train_AUC_score','Test_AUC_score']\n",
        "\n",
        "me=np.array(metric).reshape(7,4)\n",
        "\n",
        "c_t=pd.DataFrame(np.round(me,2),columns= col , index=al)"
      ],
      "execution_count": 0,
      "outputs": []
    },
    {
      "cell_type": "code",
      "metadata": {
        "id": "gQldNG0IZRpx",
        "colab_type": "code",
        "colab": {}
      },
      "source": [
        "#Comparing various algorithms scores\n",
        "c_t"
      ],
      "execution_count": 0,
      "outputs": []
    },
    {
      "cell_type": "code",
      "metadata": {
        "id": "068075LYZRp3",
        "colab_type": "code",
        "colab": {}
      },
      "source": [
        ""
      ],
      "execution_count": 0,
      "outputs": []
    }
  ]
}